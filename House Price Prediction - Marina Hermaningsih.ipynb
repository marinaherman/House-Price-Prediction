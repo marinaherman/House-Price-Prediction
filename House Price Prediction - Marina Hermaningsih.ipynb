{
 "cells": [
  {
   "cell_type": "markdown",
   "id": "f1b34343",
   "metadata": {},
   "source": [
    "# House Price Prediction"
   ]
  },
  {
   "cell_type": "markdown",
   "id": "bd14e845",
   "metadata": {},
   "source": [
    "### Deskripsi Singkat"
   ]
  },
  {
   "cell_type": "markdown",
   "id": "b3138351",
   "metadata": {},
   "source": [
    "Data berisi variasi harga rumah di Australia dengan berbagai macam faktor, seperti : luas bangunan, luas basement,jumlah kamar, jumlah lantai dan lain-lain. Tujuan portofolio ini adalah (1) memprediksi harga rumah berdasarkan kemampuan model machine learning (2) mengetahui variabel yang berpengaruh dalam meningkatkan harga rumah berdasarkan metode exploratory data analysis"
   ]
  },
  {
   "cell_type": "markdown",
   "id": "c4038905",
   "metadata": {},
   "source": [
    "# 1. Import Library"
   ]
  },
  {
   "cell_type": "code",
   "execution_count": 1,
   "id": "3f65b910",
   "metadata": {},
   "outputs": [],
   "source": [
    "#====== Pandas =====#\n",
    "import pandas as pd\n",
    "pd.set_option('display.max_columns',None)\n",
    "\n",
    "#====== Numpy =====#\n",
    "import numpy as np\n",
    "\n",
    "#====== Visualization ====#\n",
    "import matplotlib.pyplot as plt\n",
    "import seaborn as sns\n",
    "\n",
    "#====== Mengatur background agar putih terang ====#\n",
    "sns.set()\n",
    "%matplotlib inline\n",
    "\n",
    "#===== Untuk Uji Statistik ======#\n",
    "from scipy import stats\n",
    "\n",
    "#===== Sklearn ========#\n",
    "from sklearn.model_selection import train_test_split"
   ]
  },
  {
   "cell_type": "markdown",
   "id": "ed5e1f76",
   "metadata": {},
   "source": [
    "# 2. Import Data"
   ]
  },
  {
   "cell_type": "code",
   "execution_count": 2,
   "id": "60f8c9a7",
   "metadata": {},
   "outputs": [],
   "source": [
    "df = pd.read_csv('data.csv')"
   ]
  },
  {
   "cell_type": "markdown",
   "id": "279c50d2",
   "metadata": {},
   "source": [
    "# 3. Data Inspection"
   ]
  },
  {
   "cell_type": "code",
   "execution_count": 3,
   "id": "512b2626",
   "metadata": {},
   "outputs": [
    {
     "data": {
      "text/html": [
       "<div>\n",
       "<style scoped>\n",
       "    .dataframe tbody tr th:only-of-type {\n",
       "        vertical-align: middle;\n",
       "    }\n",
       "\n",
       "    .dataframe tbody tr th {\n",
       "        vertical-align: top;\n",
       "    }\n",
       "\n",
       "    .dataframe thead th {\n",
       "        text-align: right;\n",
       "    }\n",
       "</style>\n",
       "<table border=\"1\" class=\"dataframe\">\n",
       "  <thead>\n",
       "    <tr style=\"text-align: right;\">\n",
       "      <th></th>\n",
       "      <th>date</th>\n",
       "      <th>price</th>\n",
       "      <th>bedrooms</th>\n",
       "      <th>bathrooms</th>\n",
       "      <th>sqft_living</th>\n",
       "      <th>sqft_lot</th>\n",
       "      <th>floors</th>\n",
       "      <th>waterfront</th>\n",
       "      <th>view</th>\n",
       "      <th>condition</th>\n",
       "      <th>sqft_above</th>\n",
       "      <th>sqft_basement</th>\n",
       "      <th>yr_built</th>\n",
       "      <th>yr_renovated</th>\n",
       "      <th>street</th>\n",
       "      <th>city</th>\n",
       "      <th>statezip</th>\n",
       "      <th>country</th>\n",
       "    </tr>\n",
       "  </thead>\n",
       "  <tbody>\n",
       "    <tr>\n",
       "      <th>0</th>\n",
       "      <td>2014-05-02 00:00:00</td>\n",
       "      <td>313000.0</td>\n",
       "      <td>3.0</td>\n",
       "      <td>1.50</td>\n",
       "      <td>1340</td>\n",
       "      <td>7912</td>\n",
       "      <td>1.5</td>\n",
       "      <td>0</td>\n",
       "      <td>0</td>\n",
       "      <td>3</td>\n",
       "      <td>1340</td>\n",
       "      <td>0</td>\n",
       "      <td>1955</td>\n",
       "      <td>2005</td>\n",
       "      <td>18810 Densmore Ave N</td>\n",
       "      <td>Shoreline</td>\n",
       "      <td>WA 98133</td>\n",
       "      <td>USA</td>\n",
       "    </tr>\n",
       "    <tr>\n",
       "      <th>1</th>\n",
       "      <td>2014-05-02 00:00:00</td>\n",
       "      <td>2384000.0</td>\n",
       "      <td>5.0</td>\n",
       "      <td>2.50</td>\n",
       "      <td>3650</td>\n",
       "      <td>9050</td>\n",
       "      <td>2.0</td>\n",
       "      <td>0</td>\n",
       "      <td>4</td>\n",
       "      <td>5</td>\n",
       "      <td>3370</td>\n",
       "      <td>280</td>\n",
       "      <td>1921</td>\n",
       "      <td>0</td>\n",
       "      <td>709 W Blaine St</td>\n",
       "      <td>Seattle</td>\n",
       "      <td>WA 98119</td>\n",
       "      <td>USA</td>\n",
       "    </tr>\n",
       "    <tr>\n",
       "      <th>2</th>\n",
       "      <td>2014-05-02 00:00:00</td>\n",
       "      <td>342000.0</td>\n",
       "      <td>3.0</td>\n",
       "      <td>2.00</td>\n",
       "      <td>1930</td>\n",
       "      <td>11947</td>\n",
       "      <td>1.0</td>\n",
       "      <td>0</td>\n",
       "      <td>0</td>\n",
       "      <td>4</td>\n",
       "      <td>1930</td>\n",
       "      <td>0</td>\n",
       "      <td>1966</td>\n",
       "      <td>0</td>\n",
       "      <td>26206-26214 143rd Ave SE</td>\n",
       "      <td>Kent</td>\n",
       "      <td>WA 98042</td>\n",
       "      <td>USA</td>\n",
       "    </tr>\n",
       "    <tr>\n",
       "      <th>3</th>\n",
       "      <td>2014-05-02 00:00:00</td>\n",
       "      <td>420000.0</td>\n",
       "      <td>3.0</td>\n",
       "      <td>2.25</td>\n",
       "      <td>2000</td>\n",
       "      <td>8030</td>\n",
       "      <td>1.0</td>\n",
       "      <td>0</td>\n",
       "      <td>0</td>\n",
       "      <td>4</td>\n",
       "      <td>1000</td>\n",
       "      <td>1000</td>\n",
       "      <td>1963</td>\n",
       "      <td>0</td>\n",
       "      <td>857 170th Pl NE</td>\n",
       "      <td>Bellevue</td>\n",
       "      <td>WA 98008</td>\n",
       "      <td>USA</td>\n",
       "    </tr>\n",
       "    <tr>\n",
       "      <th>4</th>\n",
       "      <td>2014-05-02 00:00:00</td>\n",
       "      <td>550000.0</td>\n",
       "      <td>4.0</td>\n",
       "      <td>2.50</td>\n",
       "      <td>1940</td>\n",
       "      <td>10500</td>\n",
       "      <td>1.0</td>\n",
       "      <td>0</td>\n",
       "      <td>0</td>\n",
       "      <td>4</td>\n",
       "      <td>1140</td>\n",
       "      <td>800</td>\n",
       "      <td>1976</td>\n",
       "      <td>1992</td>\n",
       "      <td>9105 170th Ave NE</td>\n",
       "      <td>Redmond</td>\n",
       "      <td>WA 98052</td>\n",
       "      <td>USA</td>\n",
       "    </tr>\n",
       "  </tbody>\n",
       "</table>\n",
       "</div>"
      ],
      "text/plain": [
       "                  date      price  bedrooms  bathrooms  sqft_living  sqft_lot  \\\n",
       "0  2014-05-02 00:00:00   313000.0       3.0       1.50         1340      7912   \n",
       "1  2014-05-02 00:00:00  2384000.0       5.0       2.50         3650      9050   \n",
       "2  2014-05-02 00:00:00   342000.0       3.0       2.00         1930     11947   \n",
       "3  2014-05-02 00:00:00   420000.0       3.0       2.25         2000      8030   \n",
       "4  2014-05-02 00:00:00   550000.0       4.0       2.50         1940     10500   \n",
       "\n",
       "   floors  waterfront  view  condition  sqft_above  sqft_basement  yr_built  \\\n",
       "0     1.5           0     0          3        1340              0      1955   \n",
       "1     2.0           0     4          5        3370            280      1921   \n",
       "2     1.0           0     0          4        1930              0      1966   \n",
       "3     1.0           0     0          4        1000           1000      1963   \n",
       "4     1.0           0     0          4        1140            800      1976   \n",
       "\n",
       "   yr_renovated                    street       city  statezip country  \n",
       "0          2005      18810 Densmore Ave N  Shoreline  WA 98133     USA  \n",
       "1             0           709 W Blaine St    Seattle  WA 98119     USA  \n",
       "2             0  26206-26214 143rd Ave SE       Kent  WA 98042     USA  \n",
       "3             0           857 170th Pl NE   Bellevue  WA 98008     USA  \n",
       "4          1992         9105 170th Ave NE    Redmond  WA 98052     USA  "
      ]
     },
     "execution_count": 3,
     "metadata": {},
     "output_type": "execute_result"
    }
   ],
   "source": [
    "#Melihat 5 baris pertama\n",
    "df.head()"
   ]
  },
  {
   "cell_type": "code",
   "execution_count": 4,
   "id": "1d6288f0",
   "metadata": {},
   "outputs": [
    {
     "data": {
      "text/plain": [
       "0"
      ]
     },
     "execution_count": 4,
     "metadata": {},
     "output_type": "execute_result"
    }
   ],
   "source": [
    "#Mengetahui ada tidaknya data yang duplicate\n",
    "df.duplicated().sum()"
   ]
  },
  {
   "cell_type": "code",
   "execution_count": 5,
   "id": "3b922279",
   "metadata": {},
   "outputs": [
    {
     "name": "stdout",
     "output_type": "stream",
     "text": [
      "========date========\n",
      " ['2014-05-02 00:00:00' '2014-05-03 00:00:00' '2014-05-04 00:00:00'\n",
      " '2014-05-05 00:00:00' '2014-05-06 00:00:00' '2014-05-07 00:00:00'\n",
      " '2014-05-08 00:00:00' '2014-05-09 00:00:00' '2014-05-10 00:00:00'\n",
      " '2014-05-11 00:00:00' '2014-05-12 00:00:00' '2014-05-13 00:00:00'\n",
      " '2014-05-14 00:00:00' '2014-05-15 00:00:00' '2014-05-16 00:00:00'\n",
      " '2014-05-17 00:00:00' '2014-05-18 00:00:00' '2014-05-19 00:00:00'\n",
      " '2014-05-20 00:00:00' '2014-05-21 00:00:00' '2014-05-22 00:00:00'\n",
      " '2014-05-23 00:00:00' '2014-05-24 00:00:00' '2014-05-25 00:00:00'\n",
      " '2014-05-26 00:00:00' '2014-05-27 00:00:00' '2014-05-28 00:00:00'\n",
      " '2014-05-29 00:00:00' '2014-05-30 00:00:00' '2014-05-31 00:00:00'\n",
      " '2014-06-01 00:00:00' '2014-06-02 00:00:00' '2014-06-03 00:00:00'\n",
      " '2014-06-04 00:00:00' '2014-06-05 00:00:00' '2014-06-06 00:00:00'\n",
      " '2014-06-07 00:00:00' '2014-06-08 00:00:00' '2014-06-09 00:00:00'\n",
      " '2014-06-10 00:00:00' '2014-06-11 00:00:00' '2014-06-12 00:00:00'\n",
      " '2014-06-13 00:00:00' '2014-06-14 00:00:00' '2014-06-15 00:00:00'\n",
      " '2014-06-16 00:00:00' '2014-06-17 00:00:00' '2014-06-18 00:00:00'\n",
      " '2014-06-19 00:00:00' '2014-06-20 00:00:00' '2014-06-21 00:00:00'\n",
      " '2014-06-22 00:00:00' '2014-06-23 00:00:00' '2014-06-24 00:00:00'\n",
      " '2014-06-25 00:00:00' '2014-06-26 00:00:00' '2014-06-27 00:00:00'\n",
      " '2014-06-28 00:00:00' '2014-06-29 00:00:00' '2014-06-30 00:00:00'\n",
      " '2014-07-01 00:00:00' '2014-07-02 00:00:00' '2014-07-03 00:00:00'\n",
      " '2014-07-04 00:00:00' '2014-07-05 00:00:00' '2014-07-06 00:00:00'\n",
      " '2014-07-07 00:00:00' '2014-07-08 00:00:00' '2014-07-09 00:00:00'\n",
      " '2014-07-10 00:00:00']\n",
      "\n",
      "========price========\n",
      " [ 313000.       2384000.        342000.       ...  416904.166667\n",
      "  203400.        220600.      ]\n",
      "\n",
      "========bedrooms========\n",
      " [3. 5. 4. 2. 6. 7. 9. 1. 8. 0.]\n",
      "\n",
      "========bathrooms========\n",
      " [1.5  2.5  2.   2.25 1.   1.75 2.75 3.   3.25 3.5  8.   4.25 4.   3.75\n",
      " 5.   4.5  5.75 1.25 6.5  4.75 0.75 5.25 5.5  6.25 0.   6.75]\n",
      "\n",
      "========sqft_living========\n",
      " [ 1340  3650  1930  2000  1940   880  1350  2710  2430  1520  1710  2920\n",
      "  2330  1090  2910  1200  1570  3110  1370  1180  2240  1450  1750  2730\n",
      "  1600  2090  2360  2200  2820  2600  1560  2860  1820  3630  3240   800\n",
      "  1850  1960  2390  1580  1480   850  1770  1210  1160  1970  1270  3310\n",
      "  1800  2210  1920  2190  3660  1320  1630  2680  2540   900  1650  1010\n",
      "  2530  2850  2280  1900  1330  2170  2120  2490  1990  3690  2340  2110\n",
      "  1140  1410  3180  2160  2350  2740  1680  3090  4010  2010  2370  1840\n",
      "  2070  4340   840  1240  1390  2310  1050  2550  1120  2230   810  3190\n",
      "  1670 13540  1880  1550  2050  2220  2300  1790  2440  3400  4420  1571\n",
      "  1620  1408  3040  4490  1590  2450  1440  1100  2150  1490  1030   720\n",
      "  2020  1300  3370  1890  1260  3470  2290  2810  1640  1500  2460  1230\n",
      "  2331  3100  2060  3740  1420  1510  2130  3490  2260  3030  1310  3880\n",
      "  3760  2970  1660  3200  3380  1110   930  1690  4510  1980  1170  2890\n",
      "  2690  3569   990  4460  1250  1540  2520  3830  2410  1720  1760  4120\n",
      "  1830  1400  1870  6210  1040  2720  2510   820  2420  3305  4130  2650\n",
      "  2030  2270  1610   760  3560  2960   910  3700  2180  1860  1380  3000\n",
      "  2140  4270  3900  1150  2656  1606  3160  1730  2660   980  1360  1810\n",
      "  2320  3410  2250  1060  2480   960  3290  1020  3510   950  1190  2800\n",
      "  3820  1460  2640  1910  2015   860  4230  3810  2790  1430  3750  2470\n",
      "  1445  2100  3720  5860  2163  3480  2840  1352  1220  2830  3780  1470\n",
      "  3060  1780  5190  2400  3540  7270   998  5420  3300  2560  4700  2980\n",
      "  3460  4530  1290  1080  2670  3680  1280   970   700  2700  2780  2620\n",
      "  2760  3070  2040   830  3270  3280  3360  3150  3001  3610  3120  3440\n",
      "  1740  4400  5300  1950   650   790  3530  4860  1530  2876  3520  1700\n",
      "  5774  1159  4470  2257  3430  2580  3320  4910  2930  3920  2870  3550\n",
      "  4560  3020  3580  1232  3930  3950  1070  1726   870  1000  6490  2134\n",
      "  5520  2080  2500   770  4180   680  2380  3230  4380  2880  1092  2770\n",
      "  3050  3500  2303  3488  2750  3010  4850  2630  1396  5330  5305  3250\n",
      "  3220   940   740  3140  2570  3600  3340  6040   590  4260  2052  1347\n",
      "  3860  5060   550   430  3840   780  4220  4390  4080  4740  1814   580\n",
      "   750  4580  5584  3670  1255  3390  4060  3080  1982  3790   920  3330\n",
      "  4590  2610  1658  1296  5940  2495  2990  4250  4140  3420  4440  3890\n",
      "  2798  3753  3910  2590  4410  4730  2900   710  6980  4430  4960  5700\n",
      "  4240  3990  5550  4290  2675  3640   730  4370  4500  1175  1495  3800\n",
      "  2961  1765  2481   560   670  4720  2437  4610  3590  3902  5180  5660\n",
      "  1463  4160  1130  4670  2658  3450  4600  1405  4150  1811  3730  1392\n",
      "  1651  2940  5270  3870  2732  2009  1295 10040   890   620  8670  2414\n",
      "  3170  4210   982  2456  4030  3064  3960  5730  1769   420  4070  4200\n",
      "  3770  3210  4310  1384  3130  1212  1088  9640  4170  1494  4100  1413\n",
      "  4360  6050  1689  3850  2795  6430   660  3260  4680  2807  1584  3620\n",
      "  2496  4750  5990  2238  4640   380  3940  6900  3366  5480  6630  2950\n",
      "  4570  2242  2341  2034  6390  4810   690  4620  4690  3570  4000  4225\n",
      "  5850  4660  1481  2025  2085  4040  4480  1444  1715  6640  2432  1068\n",
      "  4830  5000  3350  4350  7050   370  3970  2375  2701  3002  2105  4930\n",
      "  5070  3316  4110  5010  3595  4050  1995  2286  5430  1601  3176  1785\n",
      "  6500  7320  4710   630  1984   490  3710  2783  4280  5780  6070  3206\n",
      "   520  4630  5030  5340  5960  2192  2068  2683  5230  4550  3831  1954\n",
      "  8020  2538]\n",
      "\n",
      "========sqft_lot========\n",
      " [ 7912  9050 11947 ...  7573  7014  8102]\n",
      "\n",
      "========floors========\n",
      " [1.5 2.  1.  2.5 3.  3.5]\n",
      "\n",
      "========waterfront========\n",
      " [0 1]\n",
      "\n",
      "========view========\n",
      " [0 4 1 2 3]\n",
      "\n",
      "========condition========\n",
      " [3 5 4 2 1]\n",
      "\n",
      "========sqft_above========\n",
      " [1340 3370 1930 1000 1140  880 1350 2710 1570 1520 1710 1910 1970 1090\n",
      " 2910 1200 3110 1370 1180 1550 1450 1470 2730 1130 1360 1300 2820 1700\n",
      " 1560 2190 1640 2300 3240  800 1650 1440 1580 1480  850 1770 1210 1160\n",
      " 1270 3310 1880 1800 1460 1070 3660 1040 1280 2680 2540 2920  900 1010\n",
      " 2010 1990 1900 1330 1110 1610 1620 2490 3690 1320 2110 3180 1400 2780\n",
      " 1810  780 1680 1750 1410 2850 2370 1540 4340  840 1240 1050 2310 1120\n",
      " 2230  810 1690 1670 9410 1430 2220 1960 1080 1790 2440 1940 3400 3410\n",
      " 1571 1408 3040 3200 1590 2450 1100  860 2150 2000 1030  720 2020  980\n",
      " 1260 3470 2290 1850 2460 1020 2331 2400  960 3740 1420 1170 2280 1630\n",
      " 3030 1310 3880 1230 2740 3380  930 1060 4510  740 2690 3569 3930  990\n",
      " 2430 4460 1250 1600 1220 1780 1720 1760 1830 1870 4760 2720 1920  820\n",
      " 1860 2245 3170 1890 2030 2130  760 3560  910 3700 2180 1380 1500 1660\n",
      " 1490 3900 1150 2656 1606 2090 2550 2660 1290 2320 2250 1390  650 3290\n",
      " 1980 3510 1510  790 1190 1840 2015 4230 2560 2790 3750 2600 2260 2470\n",
      " 3000 2100 4910 2163 2340 2840 1352 3780 2330 3060 3390 3540 6420  798\n",
      " 2160 3890 2830 3300  870 3420  770 2360 2890 2200 2350 2670  970  700\n",
      " 2620 2040 3490  830  670 3360 3150 3190 3001 3120 3440 1740 4400 4570\n",
      " 1950 3530 3820 1530 2140 2650 2210  950 4490 2120 1159 2240 2700 3100\n",
      " 1820 4470 3810 1363 3430 2580 3320 2510 2070 2900 2060 3550 3800 1232\n",
      " 3950 2170 1726  940 3280 3160 3940 2134 3570  890 2480 2500 3480 2880\n",
      "  680 2640 2380 3230 4380 2800 1730 1092 2770 2390 3050 2860 2303 3488\n",
      "  550 4850  920 2630 3010 1396 2760 3745 3250 2930 3140 4100  590 2080\n",
      " 2980 4260 2052 1347 3860 5060 2420  430 3840 4220 4080 4740 3500  944\n",
      "  580  750 4580 5584 3670 1255 4060 1982 2520 3720 2810 3790 3330 4590\n",
      " 2610 1658 1296 4950 2495 2990 3090 2530 2798 3336 3130 4270 4140  710\n",
      " 5330 4430 3680 4180 3350  630 4290 2675  730 3610 1405 4130 2050 2961\n",
      " 2870 1765 2481  560 2437 3590 2782 4070 1463 4670 2658 4150 3070 1811\n",
      " 3260 2590 3760 1392 3020 1651 4010 2009 1105 7680 4500  620 6120 2414\n",
      " 4210  806 2456 4030 3064 3960 1341 4280 1769  420 3270 4410 2570 4120\n",
      " 3650 3770  610 1144 2960 1212 3450 2970 1088 4820 4170  995 1494 2940\n",
      " 1413 4420 6050 3640 2410 1689 2795 6430  660 3850 2807 1584 3870 2496\n",
      " 3600 4050 3990 2238  380  690 2966 2750 4930 4000 3730 3220 2242 2270\n",
      " 2341 3580 4560 2950 4810 4620 3920 4250 4225 4660 1481 2025 4040 3460\n",
      " 1444 1715 6640 2432 1068 3710 4390 4350 3340 4320 5190  370 2375 2701\n",
      " 3002 2105 5070 3316 4110 4370 3595 1995 2286 5430 1536 3830 2726 1595\n",
      " 5180 7320 1564 3080  490 2783 4440 6070 3206  520 3210 5010 4770 2192\n",
      " 2068 2683 3910 3831 1954 8020 2538]\n",
      "\n",
      "========sqft_basement========\n",
      " [   0  280 1000  800  860 1010  360  690  470  730  900  670  180 1330\n",
      "  760  310  950  830  750  850  350 1170  520  630 1140  160  560  500\n",
      "  780 1220  440  270  140  540 1370 1340 1160  680  300  910  340  740\n",
      " 1500 4130  840  920  620  250  720   80 1290  240  490  480 1400 1100\n",
      "  210  870  700 1030  530  880  650  960 1210 1360 1200  400  420  430\n",
      "  590 1580  330 1380  940 1450  370  640  570 1230  600 1060 1130  260\n",
      "  510  820  220 1070  100 1090  660  890   70 1250  550  145  710 1760\n",
      "  410  290  450  150 1800  200 1460 1120 1530 1280   90  930 1180  320\n",
      " 1350 1690  980 1190 1080 1700  810 1050 1020 1480  390 1270  790 1540\n",
      "  580 1040  516  610 1284  380  770  894  120 1110 1260 1740 1420 2550\n",
      " 1950 1510  130 1300  970  230 2330 1910  170   60 1670  906  110 1660\n",
      " 1560 1940 1620  990  190 2100 2070  460 2180  417 2060   50 1650 2850\n",
      " 2200  435 2000 1860 1320 2110 2300 2150  265 1780 1610  862 2360  176\n",
      " 1600 1490 1440 4820 1850 1590   20 1150 2080 1630  875 1830 1720  475\n",
      " 1310 2020 2730 1430   65 1840 1730 1870 1520 2030 1640]\n",
      "\n",
      "========yr_built========\n",
      " [1955 1921 1966 1963 1976 1938 1989 1985 1945 1948 1909 1980 1939 1965\n",
      " 1956 1997 1987 1983 1923 1954 2005 1991 1959 1920 1979 1951 1967 2004\n",
      " 2014 1995 1944 1992 1957 1978 1974 1950 1990 1949 1968 1977 1996 2001\n",
      " 2000 1929 2006 2008 2009 2012 2013 2007 1986 1973 1988 1900 1928 1982\n",
      " 1960 2003 1998 1942 1908 1958 1971 1975 1961 1924 1902 1962 1953 1999\n",
      " 1994 1930 1984 2010 1912 1947 1916 1940 1970 1952 1964 1926 1905 1969\n",
      " 1903 1943 1993 1946 1910 1904 1981 1906 1922 2011 2002 1917 1913 1914\n",
      " 1937 1925 1932 1918 1972 1941 1919 1936 1911 1927 1931 1901 1907 1915\n",
      " 1935 1933 1934]\n",
      "\n",
      "========yr_renovated========\n",
      " [2005    0 1992 1994 2010 1988 2009 1969 2000 1979 1989 2014 1999 2003\n",
      " 1983 1997 1912 1923 1954 2011 2001 2013 2006 1972 1985 1998 2004 1958\n",
      " 2008 1970 1982 1986 1996 2002 1971 1990 1956 1945 1984 2012 1993 2007\n",
      " 1981 1974 1963 1968 1995 1934 1953 1966 1955 1987 1960 1978 1980 1948\n",
      " 1991 1913 1977 1975]\n",
      "\n",
      "========street========\n",
      " ['18810 Densmore Ave N' '709 W Blaine St' '26206-26214 143rd Ave SE' ...\n",
      " '759 Ilwaco Pl NE' '5148 S Creston St' '18717 SE 258th St']\n",
      "\n",
      "========city========\n",
      " ['Shoreline' 'Seattle' 'Kent' 'Bellevue' 'Redmond' 'Maple Valley'\n",
      " 'North Bend' 'Lake Forest Park' 'Sammamish' 'Auburn' 'Des Moines'\n",
      " 'Bothell' 'Federal Way' 'Kirkland' 'Issaquah' 'Woodinville'\n",
      " 'Normandy Park' 'Fall City' 'Renton' 'Carnation' 'Snoqualmie' 'Duvall'\n",
      " 'Burien' 'Covington' 'Inglewood-Finn Hill' 'Kenmore' 'Newcastle'\n",
      " 'Mercer Island' 'Black Diamond' 'Ravensdale' 'Clyde Hill' 'Algona'\n",
      " 'Skykomish' 'Tukwila' 'Vashon' 'Yarrow Point' 'SeaTac' 'Medina'\n",
      " 'Enumclaw' 'Snoqualmie Pass' 'Pacific' 'Beaux Arts Village' 'Preston'\n",
      " 'Milton']\n",
      "\n",
      "========statezip========\n",
      " ['WA 98133' 'WA 98119' 'WA 98042' 'WA 98008' 'WA 98052' 'WA 98115'\n",
      " 'WA 98038' 'WA 98045' 'WA 98155' 'WA 98105' 'WA 98074' 'WA 98106'\n",
      " 'WA 98007' 'WA 98092' 'WA 98198' 'WA 98006' 'WA 98102' 'WA 98011'\n",
      " 'WA 98125' 'WA 98003' 'WA 98136' 'WA 98033' 'WA 98029' 'WA 98117'\n",
      " 'WA 98034' 'WA 98072' 'WA 98023' 'WA 98107' 'WA 98166' 'WA 98116'\n",
      " 'WA 98024' 'WA 98055' 'WA 98077' 'WA 98027' 'WA 98059' 'WA 98075'\n",
      " 'WA 98014' 'WA 98065' 'WA 98199' 'WA 98053' 'WA 98058' 'WA 98122'\n",
      " 'WA 98103' 'WA 98112' 'WA 98005' 'WA 98118' 'WA 98177' 'WA 98004'\n",
      " 'WA 98019' 'WA 98144' 'WA 98168' 'WA 98001' 'WA 98056' 'WA 98146'\n",
      " 'WA 98028' 'WA 98148' 'WA 98057' 'WA 98040' 'WA 98010' 'WA 98051'\n",
      " 'WA 98031' 'WA 98109' 'WA 98030' 'WA 98126' 'WA 98032' 'WA 98178'\n",
      " 'WA 98288' 'WA 98108' 'WA 98070' 'WA 98188' 'WA 98002' 'WA 98039'\n",
      " 'WA 98022' 'WA 98068' 'WA 98047' 'WA 98050' 'WA 98354']\n",
      "\n",
      "========country========\n",
      " ['USA']\n",
      "\n"
     ]
    }
   ],
   "source": [
    "#Mengetahui unique value\n",
    "for x in df.columns :\n",
    "    print (f'========{x}========') \n",
    "    print (f' {df[x].unique()}') \n",
    "    print()"
   ]
  },
  {
   "cell_type": "code",
   "execution_count": 6,
   "id": "38da8baa",
   "metadata": {},
   "outputs": [
    {
     "name": "stdout",
     "output_type": "stream",
     "text": [
      "<class 'pandas.core.frame.DataFrame'>\n",
      "RangeIndex: 4600 entries, 0 to 4599\n",
      "Data columns (total 18 columns):\n",
      " #   Column         Non-Null Count  Dtype  \n",
      "---  ------         --------------  -----  \n",
      " 0   date           4600 non-null   object \n",
      " 1   price          4600 non-null   float64\n",
      " 2   bedrooms       4600 non-null   float64\n",
      " 3   bathrooms      4600 non-null   float64\n",
      " 4   sqft_living    4600 non-null   int64  \n",
      " 5   sqft_lot       4600 non-null   int64  \n",
      " 6   floors         4600 non-null   float64\n",
      " 7   waterfront     4600 non-null   int64  \n",
      " 8   view           4600 non-null   int64  \n",
      " 9   condition      4600 non-null   int64  \n",
      " 10  sqft_above     4600 non-null   int64  \n",
      " 11  sqft_basement  4600 non-null   int64  \n",
      " 12  yr_built       4600 non-null   int64  \n",
      " 13  yr_renovated   4600 non-null   int64  \n",
      " 14  street         4600 non-null   object \n",
      " 15  city           4600 non-null   object \n",
      " 16  statezip       4600 non-null   object \n",
      " 17  country        4600 non-null   object \n",
      "dtypes: float64(4), int64(9), object(5)\n",
      "memory usage: 647.0+ KB\n"
     ]
    }
   ],
   "source": [
    "#Mengetahui info data frame\n",
    "df.info()"
   ]
  },
  {
   "cell_type": "markdown",
   "id": "c2dec354",
   "metadata": {},
   "source": [
    "#### Summary Data - 1"
   ]
  },
  {
   "cell_type": "markdown",
   "id": "785ba5ee",
   "metadata": {},
   "source": [
    "Data frame :\n",
    "\n",
    "1. tidak ada duplicate value and missing value\n",
    "2. mengganti tipe kolom 'date' menjadi tipe timestamp\n",
    "3. mengganti tipe data kolom 'bedrooms' menjadi tipe int\n",
    "4. membuang kolom 'street' karna terlalu banyak unique value\n",
    "5. membuang kolom 'statezip' karna terlalu banyak unique value\n",
    "6. membuang kolom 'city' karna terlalu banyak unique value\n",
    "7. membuang kolom 'country' karna hanya berisi satu data\n",
    "8. mengubah nama kolom 'date' menjadi 'sold_date'"
   ]
  },
  {
   "cell_type": "code",
   "execution_count": 7,
   "id": "70ab710b",
   "metadata": {},
   "outputs": [],
   "source": [
    "#mengubah 'date' menjadi tipe time --> menggunakan pd.to_datatime\n",
    "\n",
    "df['date'] = pd.to_datetime(df['date'])"
   ]
  },
  {
   "cell_type": "code",
   "execution_count": 8,
   "id": "6d0ff01a",
   "metadata": {},
   "outputs": [],
   "source": [
    "#mengubah 'bedrooms' menjadi obejct/int/float --> menggunakan astype\n",
    "\n",
    "df['bedrooms'] = df['bedrooms'].astype('int64')"
   ]
  },
  {
   "cell_type": "code",
   "execution_count": 9,
   "id": "b1e3fa8f",
   "metadata": {},
   "outputs": [],
   "source": [
    "#membuang kolom statezip, street, country\n",
    "#axis=1 --> kolom\n",
    "#axis=0 --> baris\n",
    "\n",
    "df=df.drop(['statezip','country','street','city'],axis=1)"
   ]
  },
  {
   "cell_type": "code",
   "execution_count": 10,
   "id": "90110cc8",
   "metadata": {},
   "outputs": [],
   "source": [
    "#mengubah nama kolom\n",
    "df =df.rename(columns={'date':'sold_date'})"
   ]
  },
  {
   "cell_type": "code",
   "execution_count": 11,
   "id": "53436207",
   "metadata": {},
   "outputs": [
    {
     "name": "stdout",
     "output_type": "stream",
     "text": [
      "<class 'pandas.core.frame.DataFrame'>\n",
      "RangeIndex: 4600 entries, 0 to 4599\n",
      "Data columns (total 14 columns):\n",
      " #   Column         Non-Null Count  Dtype         \n",
      "---  ------         --------------  -----         \n",
      " 0   sold_date      4600 non-null   datetime64[ns]\n",
      " 1   price          4600 non-null   float64       \n",
      " 2   bedrooms       4600 non-null   int64         \n",
      " 3   bathrooms      4600 non-null   float64       \n",
      " 4   sqft_living    4600 non-null   int64         \n",
      " 5   sqft_lot       4600 non-null   int64         \n",
      " 6   floors         4600 non-null   float64       \n",
      " 7   waterfront     4600 non-null   int64         \n",
      " 8   view           4600 non-null   int64         \n",
      " 9   condition      4600 non-null   int64         \n",
      " 10  sqft_above     4600 non-null   int64         \n",
      " 11  sqft_basement  4600 non-null   int64         \n",
      " 12  yr_built       4600 non-null   int64         \n",
      " 13  yr_renovated   4600 non-null   int64         \n",
      "dtypes: datetime64[ns](1), float64(3), int64(10)\n",
      "memory usage: 503.2 KB\n"
     ]
    }
   ],
   "source": [
    "df.info()"
   ]
  },
  {
   "cell_type": "markdown",
   "id": "2667752b",
   "metadata": {},
   "source": [
    "#### Summary Data  - 2 "
   ]
  },
  {
   "cell_type": "markdown",
   "id": "23143ca0",
   "metadata": {},
   "source": [
    "Data frame :\n",
    "\n",
    "1. tipe data dari 'date' sudah berganti menjadi timestamp, dan nama feature menjadi 'sold_date'\n",
    "2. kolom state_zip, street,city, country sudah dihapus\n",
    "3. tipe data 'bedrooms' sudah menjadi tipe int"
   ]
  },
  {
   "cell_type": "markdown",
   "id": "5001b2b3",
   "metadata": {},
   "source": [
    "# 4. Exploratory Data Analysis"
   ]
  },
  {
   "cell_type": "markdown",
   "id": "a4d4345e",
   "metadata": {},
   "source": [
    "## 4.1 Data Current (Train) dan Data Future (Test)"
   ]
  },
  {
   "cell_type": "code",
   "execution_count": 12,
   "id": "5a1b9675",
   "metadata": {},
   "outputs": [],
   "source": [
    "#menentukan predictor dan target\n",
    "\n",
    "#x = predictor \n",
    "#y = target (price)\n",
    "\n",
    "#mengcopy semua data kecuali data kolom 'price' kedalam variabel x\n",
    "#axis1 --> di drop berdasarkan kolom\n",
    "x=df.drop('price',axis=1).copy()\n",
    "\n",
    "#mengcopy data kolom target 'price' kedalam variabel y\n",
    "y=df['price'].copy()"
   ]
  },
  {
   "cell_type": "code",
   "execution_count": 13,
   "id": "53f0059a",
   "metadata": {},
   "outputs": [],
   "source": [
    "#splitting data train and testing (70%,30%) atau (80%,20%)\n",
    "\n",
    "x_train,x_test,y_train,y_test = train_test_split(x,y,test_size = 0.3, random_state=42)\n",
    "\n",
    "#random_state untuk mengunci data agar ketika dirun berkali-kali tidak berubah"
   ]
  },
  {
   "cell_type": "code",
   "execution_count": 14,
   "id": "29ee7c5d",
   "metadata": {},
   "outputs": [],
   "source": [
    "#memasukkan target dari y_train kedalam data x_train --> untuk mempermudah analisis\n",
    "x_train['price'] = y_train"
   ]
  },
  {
   "cell_type": "code",
   "execution_count": 15,
   "id": "c4341043",
   "metadata": {},
   "outputs": [
    {
     "name": "stdout",
     "output_type": "stream",
     "text": [
      "<class 'pandas.core.frame.DataFrame'>\n",
      "Int64Index: 3220 entries, 2194 to 860\n",
      "Data columns (total 14 columns):\n",
      " #   Column         Non-Null Count  Dtype         \n",
      "---  ------         --------------  -----         \n",
      " 0   sold_date      3220 non-null   datetime64[ns]\n",
      " 1   bedrooms       3220 non-null   int64         \n",
      " 2   bathrooms      3220 non-null   float64       \n",
      " 3   sqft_living    3220 non-null   int64         \n",
      " 4   sqft_lot       3220 non-null   int64         \n",
      " 5   floors         3220 non-null   float64       \n",
      " 6   waterfront     3220 non-null   int64         \n",
      " 7   view           3220 non-null   int64         \n",
      " 8   condition      3220 non-null   int64         \n",
      " 9   sqft_above     3220 non-null   int64         \n",
      " 10  sqft_basement  3220 non-null   int64         \n",
      " 11  yr_built       3220 non-null   int64         \n",
      " 12  yr_renovated   3220 non-null   int64         \n",
      " 13  price          3220 non-null   float64       \n",
      "dtypes: datetime64[ns](1), float64(3), int64(10)\n",
      "memory usage: 377.3 KB\n"
     ]
    }
   ],
   "source": [
    "x_train.info()"
   ]
  },
  {
   "cell_type": "markdown",
   "id": "cf724755",
   "metadata": {},
   "source": [
    "#### Summary Data - 3"
   ]
  },
  {
   "cell_type": "markdown",
   "id": "837b48fd",
   "metadata": {},
   "source": [
    "x_train :\n",
    "1. total kolom = 14\n",
    "2. total baris = 3220 (70% dari data frame)"
   ]
  },
  {
   "cell_type": "markdown",
   "id": "57af4682",
   "metadata": {},
   "source": [
    "## 4.2 Descriptive Statistic"
   ]
  },
  {
   "cell_type": "code",
   "execution_count": 16,
   "id": "f69d6c84",
   "metadata": {},
   "outputs": [
    {
     "data": {
      "text/html": [
       "<div>\n",
       "<style scoped>\n",
       "    .dataframe tbody tr th:only-of-type {\n",
       "        vertical-align: middle;\n",
       "    }\n",
       "\n",
       "    .dataframe tbody tr th {\n",
       "        vertical-align: top;\n",
       "    }\n",
       "\n",
       "    .dataframe thead th {\n",
       "        text-align: right;\n",
       "    }\n",
       "</style>\n",
       "<table border=\"1\" class=\"dataframe\">\n",
       "  <thead>\n",
       "    <tr style=\"text-align: right;\">\n",
       "      <th></th>\n",
       "      <th>count</th>\n",
       "      <th>mean</th>\n",
       "      <th>std</th>\n",
       "      <th>min</th>\n",
       "      <th>25%</th>\n",
       "      <th>50%</th>\n",
       "      <th>75%</th>\n",
       "      <th>max</th>\n",
       "    </tr>\n",
       "  </thead>\n",
       "  <tbody>\n",
       "    <tr>\n",
       "      <th>bedrooms</th>\n",
       "      <td>3220.0</td>\n",
       "      <td>3.395652</td>\n",
       "      <td>0.909366</td>\n",
       "      <td>0.0</td>\n",
       "      <td>3.00</td>\n",
       "      <td>3.00</td>\n",
       "      <td>4.0</td>\n",
       "      <td>9.00</td>\n",
       "    </tr>\n",
       "    <tr>\n",
       "      <th>bathrooms</th>\n",
       "      <td>3220.0</td>\n",
       "      <td>2.153106</td>\n",
       "      <td>0.781558</td>\n",
       "      <td>0.0</td>\n",
       "      <td>1.75</td>\n",
       "      <td>2.25</td>\n",
       "      <td>2.5</td>\n",
       "      <td>6.75</td>\n",
       "    </tr>\n",
       "    <tr>\n",
       "      <th>sqft_living</th>\n",
       "      <td>3220.0</td>\n",
       "      <td>2138.227950</td>\n",
       "      <td>958.098193</td>\n",
       "      <td>370.0</td>\n",
       "      <td>1460.00</td>\n",
       "      <td>1990.00</td>\n",
       "      <td>2620.0</td>\n",
       "      <td>10040.00</td>\n",
       "    </tr>\n",
       "    <tr>\n",
       "      <th>sqft_lot</th>\n",
       "      <td>3220.0</td>\n",
       "      <td>14592.717391</td>\n",
       "      <td>35927.381691</td>\n",
       "      <td>704.0</td>\n",
       "      <td>5000.00</td>\n",
       "      <td>7680.00</td>\n",
       "      <td>11055.0</td>\n",
       "      <td>1074218.00</td>\n",
       "    </tr>\n",
       "    <tr>\n",
       "      <th>floors</th>\n",
       "      <td>3220.0</td>\n",
       "      <td>1.508230</td>\n",
       "      <td>0.535631</td>\n",
       "      <td>1.0</td>\n",
       "      <td>1.00</td>\n",
       "      <td>1.50</td>\n",
       "      <td>2.0</td>\n",
       "      <td>3.50</td>\n",
       "    </tr>\n",
       "    <tr>\n",
       "      <th>waterfront</th>\n",
       "      <td>3220.0</td>\n",
       "      <td>0.006832</td>\n",
       "      <td>0.082388</td>\n",
       "      <td>0.0</td>\n",
       "      <td>0.00</td>\n",
       "      <td>0.00</td>\n",
       "      <td>0.0</td>\n",
       "      <td>1.00</td>\n",
       "    </tr>\n",
       "    <tr>\n",
       "      <th>view</th>\n",
       "      <td>3220.0</td>\n",
       "      <td>0.239752</td>\n",
       "      <td>0.777701</td>\n",
       "      <td>0.0</td>\n",
       "      <td>0.00</td>\n",
       "      <td>0.00</td>\n",
       "      <td>0.0</td>\n",
       "      <td>4.00</td>\n",
       "    </tr>\n",
       "    <tr>\n",
       "      <th>condition</th>\n",
       "      <td>3220.0</td>\n",
       "      <td>3.457143</td>\n",
       "      <td>0.676478</td>\n",
       "      <td>1.0</td>\n",
       "      <td>3.00</td>\n",
       "      <td>3.00</td>\n",
       "      <td>4.0</td>\n",
       "      <td>5.00</td>\n",
       "    </tr>\n",
       "    <tr>\n",
       "      <th>sqft_above</th>\n",
       "      <td>3220.0</td>\n",
       "      <td>1819.577019</td>\n",
       "      <td>856.585738</td>\n",
       "      <td>370.0</td>\n",
       "      <td>1180.00</td>\n",
       "      <td>1580.00</td>\n",
       "      <td>2300.0</td>\n",
       "      <td>8020.00</td>\n",
       "    </tr>\n",
       "    <tr>\n",
       "      <th>sqft_basement</th>\n",
       "      <td>3220.0</td>\n",
       "      <td>318.650932</td>\n",
       "      <td>467.504722</td>\n",
       "      <td>0.0</td>\n",
       "      <td>0.00</td>\n",
       "      <td>0.00</td>\n",
       "      <td>620.0</td>\n",
       "      <td>4820.00</td>\n",
       "    </tr>\n",
       "    <tr>\n",
       "      <th>yr_built</th>\n",
       "      <td>3220.0</td>\n",
       "      <td>1970.037888</td>\n",
       "      <td>29.788158</td>\n",
       "      <td>1900.0</td>\n",
       "      <td>1950.00</td>\n",
       "      <td>1974.00</td>\n",
       "      <td>1996.0</td>\n",
       "      <td>2014.00</td>\n",
       "    </tr>\n",
       "    <tr>\n",
       "      <th>yr_renovated</th>\n",
       "      <td>3220.0</td>\n",
       "      <td>809.597826</td>\n",
       "      <td>979.705684</td>\n",
       "      <td>0.0</td>\n",
       "      <td>0.00</td>\n",
       "      <td>0.00</td>\n",
       "      <td>1999.0</td>\n",
       "      <td>2014.00</td>\n",
       "    </tr>\n",
       "    <tr>\n",
       "      <th>price</th>\n",
       "      <td>3220.0</td>\n",
       "      <td>545842.023271</td>\n",
       "      <td>379941.398421</td>\n",
       "      <td>0.0</td>\n",
       "      <td>324375.00</td>\n",
       "      <td>464600.00</td>\n",
       "      <td>657025.0</td>\n",
       "      <td>7062500.00</td>\n",
       "    </tr>\n",
       "  </tbody>\n",
       "</table>\n",
       "</div>"
      ],
      "text/plain": [
       "                count           mean            std     min        25%  \\\n",
       "bedrooms       3220.0       3.395652       0.909366     0.0       3.00   \n",
       "bathrooms      3220.0       2.153106       0.781558     0.0       1.75   \n",
       "sqft_living    3220.0    2138.227950     958.098193   370.0    1460.00   \n",
       "sqft_lot       3220.0   14592.717391   35927.381691   704.0    5000.00   \n",
       "floors         3220.0       1.508230       0.535631     1.0       1.00   \n",
       "waterfront     3220.0       0.006832       0.082388     0.0       0.00   \n",
       "view           3220.0       0.239752       0.777701     0.0       0.00   \n",
       "condition      3220.0       3.457143       0.676478     1.0       3.00   \n",
       "sqft_above     3220.0    1819.577019     856.585738   370.0    1180.00   \n",
       "sqft_basement  3220.0     318.650932     467.504722     0.0       0.00   \n",
       "yr_built       3220.0    1970.037888      29.788158  1900.0    1950.00   \n",
       "yr_renovated   3220.0     809.597826     979.705684     0.0       0.00   \n",
       "price          3220.0  545842.023271  379941.398421     0.0  324375.00   \n",
       "\n",
       "                     50%       75%         max  \n",
       "bedrooms            3.00       4.0        9.00  \n",
       "bathrooms           2.25       2.5        6.75  \n",
       "sqft_living      1990.00    2620.0    10040.00  \n",
       "sqft_lot         7680.00   11055.0  1074218.00  \n",
       "floors              1.50       2.0        3.50  \n",
       "waterfront          0.00       0.0        1.00  \n",
       "view                0.00       0.0        4.00  \n",
       "condition           3.00       4.0        5.00  \n",
       "sqft_above       1580.00    2300.0     8020.00  \n",
       "sqft_basement       0.00     620.0     4820.00  \n",
       "yr_built         1974.00    1996.0     2014.00  \n",
       "yr_renovated        0.00    1999.0     2014.00  \n",
       "price          464600.00  657025.0  7062500.00  "
      ]
     },
     "execution_count": 16,
     "metadata": {},
     "output_type": "execute_result"
    }
   ],
   "source": [
    "x_train.describe().T"
   ]
  },
  {
   "cell_type": "markdown",
   "id": "662bc163",
   "metadata": {},
   "source": [
    "Dari tabel diatas, diketahui terdapat anomali data : <br/>\n",
    "1. Min bedrooms = 0\n",
    "2. Min bathrooms = 0\n",
    "3. Min price = 0"
   ]
  },
  {
   "cell_type": "markdown",
   "id": "cfb72d36",
   "metadata": {},
   "source": [
    "#### 4.2.1 Cek Data Anomali - Bedrooms"
   ]
  },
  {
   "cell_type": "code",
   "execution_count": 17,
   "id": "9633e40d",
   "metadata": {},
   "outputs": [
    {
     "name": "stdout",
     "output_type": "stream",
     "text": [
      "(1, 14)\n",
      "0.031055900621118012\n"
     ]
    }
   ],
   "source": [
    "#filter data == 0 \n",
    "\n",
    "print(x_train[x_train['bedrooms']==0].shape)\n",
    "\n",
    "#filter data == 0 (dalam persen)\n",
    "#shape[0] --> index row\n",
    "\n",
    "print((x_train[x_train['bedrooms']==0].shape[0])/(len(x_train))*100)"
   ]
  },
  {
   "cell_type": "code",
   "execution_count": 18,
   "id": "64918ad4",
   "metadata": {},
   "outputs": [
    {
     "data": {
      "text/html": [
       "<div>\n",
       "<style scoped>\n",
       "    .dataframe tbody tr th:only-of-type {\n",
       "        vertical-align: middle;\n",
       "    }\n",
       "\n",
       "    .dataframe tbody tr th {\n",
       "        vertical-align: top;\n",
       "    }\n",
       "\n",
       "    .dataframe thead th {\n",
       "        text-align: right;\n",
       "    }\n",
       "</style>\n",
       "<table border=\"1\" class=\"dataframe\">\n",
       "  <thead>\n",
       "    <tr style=\"text-align: right;\">\n",
       "      <th></th>\n",
       "      <th>sold_date</th>\n",
       "      <th>bedrooms</th>\n",
       "      <th>bathrooms</th>\n",
       "      <th>sqft_living</th>\n",
       "      <th>sqft_lot</th>\n",
       "      <th>floors</th>\n",
       "      <th>waterfront</th>\n",
       "      <th>view</th>\n",
       "      <th>condition</th>\n",
       "      <th>sqft_above</th>\n",
       "      <th>sqft_basement</th>\n",
       "      <th>yr_built</th>\n",
       "      <th>yr_renovated</th>\n",
       "      <th>price</th>\n",
       "    </tr>\n",
       "  </thead>\n",
       "  <tbody>\n",
       "    <tr>\n",
       "      <th>2365</th>\n",
       "      <td>2014-06-12</td>\n",
       "      <td>0</td>\n",
       "      <td>0.0</td>\n",
       "      <td>3064</td>\n",
       "      <td>4764</td>\n",
       "      <td>3.5</td>\n",
       "      <td>0</td>\n",
       "      <td>2</td>\n",
       "      <td>3</td>\n",
       "      <td>3064</td>\n",
       "      <td>0</td>\n",
       "      <td>1990</td>\n",
       "      <td>2009</td>\n",
       "      <td>1095000.0</td>\n",
       "    </tr>\n",
       "  </tbody>\n",
       "</table>\n",
       "</div>"
      ],
      "text/plain": [
       "      sold_date  bedrooms  bathrooms  sqft_living  sqft_lot  floors  \\\n",
       "2365 2014-06-12         0        0.0         3064      4764     3.5   \n",
       "\n",
       "      waterfront  view  condition  sqft_above  sqft_basement  yr_built  \\\n",
       "2365           0     2          3        3064              0      1990   \n",
       "\n",
       "      yr_renovated      price  \n",
       "2365          2009  1095000.0  "
      ]
     },
     "execution_count": 18,
     "metadata": {},
     "output_type": "execute_result"
    }
   ],
   "source": [
    "#cek data yang 0 itu seperi apa\n",
    "\n",
    "x_train[x_train['bedrooms']==0]"
   ]
  },
  {
   "cell_type": "code",
   "execution_count": 19,
   "id": "c30bcc4c",
   "metadata": {},
   "outputs": [],
   "source": [
    "#karna data hanya 1 dan 0.03% --> ambil data != 0\n",
    "\n",
    "x_train=x_train[x_train['bedrooms']>0]"
   ]
  },
  {
   "cell_type": "markdown",
   "id": "2ee3d8b2",
   "metadata": {},
   "source": [
    "#### 4.2.2 Cek Data Anomali - Bathrooms"
   ]
  },
  {
   "cell_type": "code",
   "execution_count": 20,
   "id": "d9bfa342",
   "metadata": {},
   "outputs": [
    {
     "name": "stdout",
     "output_type": "stream",
     "text": [
      "(0, 14)\n",
      "0.0\n"
     ]
    }
   ],
   "source": [
    "#filter data == 0 \n",
    "\n",
    "print(x_train[x_train['bathrooms']==0].shape)\n",
    "\n",
    "#filter data == 0 (dalam persen)\n",
    "#shape[0] --> index row\n",
    "\n",
    "print((x_train[x_train['bathrooms']==0].shape[0])/(len(x_train)*100))\n"
   ]
  },
  {
   "cell_type": "code",
   "execution_count": 21,
   "id": "6ce7b5e3",
   "metadata": {},
   "outputs": [
    {
     "data": {
      "text/html": [
       "<div>\n",
       "<style scoped>\n",
       "    .dataframe tbody tr th:only-of-type {\n",
       "        vertical-align: middle;\n",
       "    }\n",
       "\n",
       "    .dataframe tbody tr th {\n",
       "        vertical-align: top;\n",
       "    }\n",
       "\n",
       "    .dataframe thead th {\n",
       "        text-align: right;\n",
       "    }\n",
       "</style>\n",
       "<table border=\"1\" class=\"dataframe\">\n",
       "  <thead>\n",
       "    <tr style=\"text-align: right;\">\n",
       "      <th></th>\n",
       "      <th>sold_date</th>\n",
       "      <th>bedrooms</th>\n",
       "      <th>bathrooms</th>\n",
       "      <th>sqft_living</th>\n",
       "      <th>sqft_lot</th>\n",
       "      <th>floors</th>\n",
       "      <th>waterfront</th>\n",
       "      <th>view</th>\n",
       "      <th>condition</th>\n",
       "      <th>sqft_above</th>\n",
       "      <th>sqft_basement</th>\n",
       "      <th>yr_built</th>\n",
       "      <th>yr_renovated</th>\n",
       "      <th>price</th>\n",
       "    </tr>\n",
       "  </thead>\n",
       "  <tbody>\n",
       "    <tr>\n",
       "      <th>1140</th>\n",
       "      <td>2014-05-22</td>\n",
       "      <td>1</td>\n",
       "      <td>0.75</td>\n",
       "      <td>1170</td>\n",
       "      <td>14149</td>\n",
       "      <td>1.0</td>\n",
       "      <td>0</td>\n",
       "      <td>0</td>\n",
       "      <td>5</td>\n",
       "      <td>880</td>\n",
       "      <td>290</td>\n",
       "      <td>1962</td>\n",
       "      <td>0</td>\n",
       "      <td>275000.0</td>\n",
       "    </tr>\n",
       "    <tr>\n",
       "      <th>3296</th>\n",
       "      <td>2014-06-25</td>\n",
       "      <td>2</td>\n",
       "      <td>0.75</td>\n",
       "      <td>1440</td>\n",
       "      <td>3700</td>\n",
       "      <td>1.0</td>\n",
       "      <td>0</td>\n",
       "      <td>0</td>\n",
       "      <td>3</td>\n",
       "      <td>1200</td>\n",
       "      <td>240</td>\n",
       "      <td>1914</td>\n",
       "      <td>1996</td>\n",
       "      <td>562100.0</td>\n",
       "    </tr>\n",
       "    <tr>\n",
       "      <th>2202</th>\n",
       "      <td>2014-06-10</td>\n",
       "      <td>2</td>\n",
       "      <td>0.75</td>\n",
       "      <td>1392</td>\n",
       "      <td>43710</td>\n",
       "      <td>1.5</td>\n",
       "      <td>0</td>\n",
       "      <td>0</td>\n",
       "      <td>4</td>\n",
       "      <td>1392</td>\n",
       "      <td>0</td>\n",
       "      <td>1978</td>\n",
       "      <td>2000</td>\n",
       "      <td>350000.0</td>\n",
       "    </tr>\n",
       "    <tr>\n",
       "      <th>3168</th>\n",
       "      <td>2014-06-23</td>\n",
       "      <td>2</td>\n",
       "      <td>0.75</td>\n",
       "      <td>1020</td>\n",
       "      <td>1350</td>\n",
       "      <td>2.0</td>\n",
       "      <td>0</td>\n",
       "      <td>0</td>\n",
       "      <td>3</td>\n",
       "      <td>1020</td>\n",
       "      <td>0</td>\n",
       "      <td>2009</td>\n",
       "      <td>0</td>\n",
       "      <td>402101.0</td>\n",
       "    </tr>\n",
       "    <tr>\n",
       "      <th>1219</th>\n",
       "      <td>2014-05-23</td>\n",
       "      <td>1</td>\n",
       "      <td>0.75</td>\n",
       "      <td>430</td>\n",
       "      <td>5050</td>\n",
       "      <td>1.0</td>\n",
       "      <td>0</td>\n",
       "      <td>0</td>\n",
       "      <td>2</td>\n",
       "      <td>430</td>\n",
       "      <td>0</td>\n",
       "      <td>1912</td>\n",
       "      <td>0</td>\n",
       "      <td>80000.0</td>\n",
       "    </tr>\n",
       "    <tr>\n",
       "      <th>4184</th>\n",
       "      <td>2014-07-09</td>\n",
       "      <td>3</td>\n",
       "      <td>0.75</td>\n",
       "      <td>490</td>\n",
       "      <td>38500</td>\n",
       "      <td>1.5</td>\n",
       "      <td>0</td>\n",
       "      <td>0</td>\n",
       "      <td>4</td>\n",
       "      <td>490</td>\n",
       "      <td>0</td>\n",
       "      <td>1959</td>\n",
       "      <td>0</td>\n",
       "      <td>150000.0</td>\n",
       "    </tr>\n",
       "    <tr>\n",
       "      <th>3778</th>\n",
       "      <td>2014-07-01</td>\n",
       "      <td>1</td>\n",
       "      <td>0.75</td>\n",
       "      <td>370</td>\n",
       "      <td>1801</td>\n",
       "      <td>1.0</td>\n",
       "      <td>0</td>\n",
       "      <td>0</td>\n",
       "      <td>5</td>\n",
       "      <td>370</td>\n",
       "      <td>0</td>\n",
       "      <td>1923</td>\n",
       "      <td>0</td>\n",
       "      <td>276000.0</td>\n",
       "    </tr>\n",
       "    <tr>\n",
       "      <th>1086</th>\n",
       "      <td>2014-05-21</td>\n",
       "      <td>2</td>\n",
       "      <td>0.75</td>\n",
       "      <td>850</td>\n",
       "      <td>7710</td>\n",
       "      <td>1.0</td>\n",
       "      <td>0</td>\n",
       "      <td>2</td>\n",
       "      <td>5</td>\n",
       "      <td>550</td>\n",
       "      <td>300</td>\n",
       "      <td>1909</td>\n",
       "      <td>1988</td>\n",
       "      <td>360000.0</td>\n",
       "    </tr>\n",
       "    <tr>\n",
       "      <th>3945</th>\n",
       "      <td>2014-07-03</td>\n",
       "      <td>2</td>\n",
       "      <td>0.75</td>\n",
       "      <td>660</td>\n",
       "      <td>5240</td>\n",
       "      <td>1.0</td>\n",
       "      <td>0</td>\n",
       "      <td>0</td>\n",
       "      <td>4</td>\n",
       "      <td>660</td>\n",
       "      <td>0</td>\n",
       "      <td>1912</td>\n",
       "      <td>1989</td>\n",
       "      <td>100000.0</td>\n",
       "    </tr>\n",
       "    <tr>\n",
       "      <th>3584</th>\n",
       "      <td>2014-06-27</td>\n",
       "      <td>2</td>\n",
       "      <td>0.75</td>\n",
       "      <td>840</td>\n",
       "      <td>40642</td>\n",
       "      <td>1.0</td>\n",
       "      <td>1</td>\n",
       "      <td>4</td>\n",
       "      <td>4</td>\n",
       "      <td>840</td>\n",
       "      <td>0</td>\n",
       "      <td>1937</td>\n",
       "      <td>0</td>\n",
       "      <td>528000.0</td>\n",
       "    </tr>\n",
       "    <tr>\n",
       "      <th>2919</th>\n",
       "      <td>2014-06-20</td>\n",
       "      <td>1</td>\n",
       "      <td>0.75</td>\n",
       "      <td>380</td>\n",
       "      <td>15000</td>\n",
       "      <td>1.0</td>\n",
       "      <td>0</td>\n",
       "      <td>0</td>\n",
       "      <td>3</td>\n",
       "      <td>380</td>\n",
       "      <td>0</td>\n",
       "      <td>1963</td>\n",
       "      <td>2008</td>\n",
       "      <td>245000.0</td>\n",
       "    </tr>\n",
       "  </tbody>\n",
       "</table>\n",
       "</div>"
      ],
      "text/plain": [
       "      sold_date  bedrooms  bathrooms  sqft_living  sqft_lot  floors  \\\n",
       "1140 2014-05-22         1       0.75         1170     14149     1.0   \n",
       "3296 2014-06-25         2       0.75         1440      3700     1.0   \n",
       "2202 2014-06-10         2       0.75         1392     43710     1.5   \n",
       "3168 2014-06-23         2       0.75         1020      1350     2.0   \n",
       "1219 2014-05-23         1       0.75          430      5050     1.0   \n",
       "4184 2014-07-09         3       0.75          490     38500     1.5   \n",
       "3778 2014-07-01         1       0.75          370      1801     1.0   \n",
       "1086 2014-05-21         2       0.75          850      7710     1.0   \n",
       "3945 2014-07-03         2       0.75          660      5240     1.0   \n",
       "3584 2014-06-27         2       0.75          840     40642     1.0   \n",
       "2919 2014-06-20         1       0.75          380     15000     1.0   \n",
       "\n",
       "      waterfront  view  condition  sqft_above  sqft_basement  yr_built  \\\n",
       "1140           0     0          5         880            290      1962   \n",
       "3296           0     0          3        1200            240      1914   \n",
       "2202           0     0          4        1392              0      1978   \n",
       "3168           0     0          3        1020              0      2009   \n",
       "1219           0     0          2         430              0      1912   \n",
       "4184           0     0          4         490              0      1959   \n",
       "3778           0     0          5         370              0      1923   \n",
       "1086           0     2          5         550            300      1909   \n",
       "3945           0     0          4         660              0      1912   \n",
       "3584           1     4          4         840              0      1937   \n",
       "2919           0     0          3         380              0      1963   \n",
       "\n",
       "      yr_renovated     price  \n",
       "1140             0  275000.0  \n",
       "3296          1996  562100.0  \n",
       "2202          2000  350000.0  \n",
       "3168             0  402101.0  \n",
       "1219             0   80000.0  \n",
       "4184             0  150000.0  \n",
       "3778             0  276000.0  \n",
       "1086          1988  360000.0  \n",
       "3945          1989  100000.0  \n",
       "3584             0  528000.0  \n",
       "2919          2008  245000.0  "
      ]
     },
     "execution_count": 21,
     "metadata": {},
     "output_type": "execute_result"
    }
   ],
   "source": [
    "#cek data yg ==0/>0 & <1 itu seperti apa\n",
    "\n",
    "x_train[(x_train['bathrooms']>0) & (x_train['bathrooms']<1)]"
   ]
  },
  {
   "cell_type": "markdown",
   "id": "7bc6b8cf",
   "metadata": {},
   "source": [
    "Data tidak dihapus --> karna ada kamar mandi dengan ukuran 0.75sqft"
   ]
  },
  {
   "cell_type": "markdown",
   "id": "41990641",
   "metadata": {},
   "source": [
    "#### 4.2.3 Cek Data Anomali - Price"
   ]
  },
  {
   "cell_type": "code",
   "execution_count": 22,
   "id": "d520c4ef",
   "metadata": {},
   "outputs": [
    {
     "name": "stdout",
     "output_type": "stream",
     "text": [
      "(35, 14)\n",
      "0.00010872941907424665\n"
     ]
    }
   ],
   "source": [
    "#filter data == 0 \n",
    "\n",
    "print(x_train[x_train['price']==0].shape)\n",
    "\n",
    "#filter data == 0 (dalam persen)\n",
    "#shape[0] --> index row\n",
    "\n",
    "print((x_train[x_train['price']==0].shape[0])/(len(x_train)*100))\n"
   ]
  },
  {
   "cell_type": "code",
   "execution_count": 23,
   "id": "f6adac07",
   "metadata": {},
   "outputs": [],
   "source": [
    "#karna target adalah harga rumah, maka harus memiliki nilai\n",
    "#filter --> ambil data != 0\n",
    "\n",
    "x_train=x_train[x_train['price']>0]"
   ]
  },
  {
   "cell_type": "code",
   "execution_count": 24,
   "id": "27bebbc9",
   "metadata": {},
   "outputs": [
    {
     "name": "stdout",
     "output_type": "stream",
     "text": [
      "<class 'pandas.core.frame.DataFrame'>\n",
      "Int64Index: 3184 entries, 2194 to 860\n",
      "Data columns (total 14 columns):\n",
      " #   Column         Non-Null Count  Dtype         \n",
      "---  ------         --------------  -----         \n",
      " 0   sold_date      3184 non-null   datetime64[ns]\n",
      " 1   bedrooms       3184 non-null   int64         \n",
      " 2   bathrooms      3184 non-null   float64       \n",
      " 3   sqft_living    3184 non-null   int64         \n",
      " 4   sqft_lot       3184 non-null   int64         \n",
      " 5   floors         3184 non-null   float64       \n",
      " 6   waterfront     3184 non-null   int64         \n",
      " 7   view           3184 non-null   int64         \n",
      " 8   condition      3184 non-null   int64         \n",
      " 9   sqft_above     3184 non-null   int64         \n",
      " 10  sqft_basement  3184 non-null   int64         \n",
      " 11  yr_built       3184 non-null   int64         \n",
      " 12  yr_renovated   3184 non-null   int64         \n",
      " 13  price          3184 non-null   float64       \n",
      "dtypes: datetime64[ns](1), float64(3), int64(10)\n",
      "memory usage: 373.1 KB\n"
     ]
    }
   ],
   "source": [
    "x_train.info()"
   ]
  },
  {
   "cell_type": "markdown",
   "id": "ddf14a52",
   "metadata": {},
   "source": [
    "#### Summary Data - 4"
   ]
  },
  {
   "cell_type": "markdown",
   "id": "f30e0f32",
   "metadata": {},
   "source": [
    "x_train :\n",
    "\n",
    "1.total kolom = 15 <br/>\n",
    "2.total baris = 3184 (70% dari data frame)"
   ]
  },
  {
   "cell_type": "markdown",
   "id": "37d04397",
   "metadata": {},
   "source": [
    "## 4.3 Analisa Univariate - Target"
   ]
  },
  {
   "cell_type": "code",
   "execution_count": 25,
   "id": "e6c1cfb5",
   "metadata": {},
   "outputs": [
    {
     "data": {
      "text/plain": [
       "4.42"
      ]
     },
     "execution_count": 25,
     "metadata": {},
     "output_type": "execute_result"
    }
   ],
   "source": [
    "#cek sweness dari target\n",
    "price_skew = round(x_train['price'].skew(),2)\n",
    "price_skew"
   ]
  },
  {
   "cell_type": "code",
   "execution_count": 26,
   "id": "72963bfb",
   "metadata": {},
   "outputs": [
    {
     "data": {
      "image/png": "[encoded data removed]",
      "text/plain": [
       "<Figure size 432x288 with 2 Axes>"
      ]
     },
     "metadata": {
      "needs_background": "light"
     },
     "output_type": "display_data"
    }
   ],
   "source": [
    "#membuat histogram \n",
    "plt.subplot(121)\n",
    "sns.histplot(data=x_train,x='price')\n",
    "plt.title(f'Histogram Harga Rumah',fontsize=12) \n",
    "plt.ylabel('Frequency')\n",
    "\n",
    "#membuat boxplot\n",
    "plt.subplot(122)\n",
    "sns.boxplot(data=x_train,x='price')\n",
    "plt.title(f'Boxplot Harga Rumah',fontsize=12)\n",
    "\n",
    "#memberi jarak antara layout\n",
    "plt.tight_layout()\n",
    "plt.show()"
   ]
  },
  {
   "cell_type": "markdown",
   "id": "f4a6370a",
   "metadata": {},
   "source": [
    "Target atau harga rumah memiliki distribusi persebaran skew positif dengan nilai skew sebesar 4.28. Selain itu, data harga rumah memiliki banyak outlier, sehingga untuk analisa akan menggunakan median sebagai centre of tendency"
   ]
  },
  {
   "cell_type": "markdown",
   "id": "1eedde15",
   "metadata": {},
   "source": [
    "## 4.4 Analisa Bivariate & Multivariate"
   ]
  },
  {
   "cell_type": "markdown",
   "id": "a706d068",
   "metadata": {},
   "source": [
    "## 4.4.1 Correlation Matrix"
   ]
  },
  {
   "cell_type": "code",
   "execution_count": 27,
   "id": "3e8adc67",
   "metadata": {},
   "outputs": [
    {
     "data": {
      "text/plain": [
       "Text(0.5, 1.0, 'Correlation Matrix')"
      ]
     },
     "execution_count": 27,
     "metadata": {},
     "output_type": "execute_result"
    },
    {
     "data": {
      "image/png": "[encoded data removed]",
      "text/plain": [
       "<Figure size 576x576 with 2 Axes>"
      ]
     },
     "metadata": {
      "needs_background": "light"
     },
     "output_type": "display_data"
    }
   ],
   "source": [
    "#membuat correlation matrix\n",
    "\n",
    "plt.figure(figsize=(8,8))\n",
    "sns.heatmap(x_train.corr(), annot = True,\n",
    "           fmt='.2g', cmap='magma')\n",
    "plt.title('Correlation Matrix',fontsize = 12)"
   ]
  },
  {
   "cell_type": "markdown",
   "id": "9e92b07b",
   "metadata": {},
   "source": [
    "Dari correlation matrix, dapat diketahui bahwa beberapa predictor memiliki korelasi positif dengan target. Berikut list predictor yang memiliki korelasi dengan target (urutan dari kuat-sedang) :\n",
    "1. sqft_living\n",
    "2. sqft_above\n",
    "3. bathrooms\n",
    "4. view\n",
    "5. sqft_basement\n",
    "6. bedrooms\n",
    "7. floor\n",
    "8. waterfront"
   ]
  },
  {
   "cell_type": "markdown",
   "id": "033084b4",
   "metadata": {},
   "source": [
    "## 4.4.2 Analisa Faktor Internal "
   ]
  },
  {
   "cell_type": "markdown",
   "id": "56c4874a",
   "metadata": {},
   "source": [
    "Dari analisa correlation matrix, diketahui bahwa faktor internal seperti luas bangunan, jumlah kamar, jumlah lantai berpengaruh pada harga rumah. Berikut urutan prediktor yang berpengaruh pada harga (urutan dimulai dari yang memiliki korelasi tinggi ke rendah) : <br/>\n",
    "1. Sqft_living\n",
    "2. Bathrooms\n",
    "3. Sqft_bassement <br/>\n",
    "4. Bedrooms\n",
    "5. Floors\n",
    "\n",
    "note : tidak membahas 'sqft_above' karna multicolinearity dengan 'sqft_living'"
   ]
  },
  {
   "cell_type": "markdown",
   "id": "0b64a710",
   "metadata": {},
   "source": [
    "### 4.4.2.1 Luas Bangunan"
   ]
  },
  {
   "cell_type": "code",
   "execution_count": 28,
   "id": "698ed157",
   "metadata": {},
   "outputs": [
    {
     "data": {
      "text/plain": [
       "Text(0.5, 1.0, 'Luas Bangunan vs Harga Rumah')"
      ]
     },
     "execution_count": 28,
     "metadata": {},
     "output_type": "execute_result"
    },
    {
     "data": {
      "image/png": "[encoded data removed]",
      "text/plain": [
       "<Figure size 432x288 with 1 Axes>"
      ]
     },
     "metadata": {
      "needs_background": "light"
     },
     "output_type": "display_data"
    }
   ],
   "source": [
    "#melihat hubungan sqft_living dengan price\n",
    "\n",
    "sns.regplot(data=x_train, x='sqft_living', y='price')\n",
    "plt.title('Luas Bangunan vs Harga Rumah', fontsize=14)"
   ]
  },
  {
   "cell_type": "markdown",
   "id": "1aa1fa5a",
   "metadata": {},
   "source": [
    "Dari regresi plot diagram hubungan luas bangunan dan harga rumah, dapat disimpulkan bahwa semakin besar luas bangunan semakin mahal harga rumah"
   ]
  },
  {
   "cell_type": "markdown",
   "id": "60e04f41",
   "metadata": {},
   "source": [
    "### 4.4.2.2 Luas Kamar Mandi"
   ]
  },
  {
   "cell_type": "code",
   "execution_count": 29,
   "id": "0ea6490f",
   "metadata": {
    "scrolled": true
   },
   "outputs": [
    {
     "data": {
      "text/plain": [
       "Text(0.5, 1.0, 'Luas Kamar Mandi vs Harga')"
      ]
     },
     "execution_count": 29,
     "metadata": {},
     "output_type": "execute_result"
    },
    {
     "data": {
      "image/png": "[encoded data removed]",
      "text/plain": [
       "<Figure size 432x288 with 1 Axes>"
      ]
     },
     "metadata": {
      "needs_background": "light"
     },
     "output_type": "display_data"
    }
   ],
   "source": [
    "#melihat hubungan bathrooms dan harga\n",
    "\n",
    "sns.boxplot(data=x_train,x='bathrooms',y='price',showfliers=False)\n",
    "plt.xticks(rotation=90);\n",
    "plt.title('Luas Kamar Mandi vs Harga',fontsize=14)"
   ]
  },
  {
   "cell_type": "code",
   "execution_count": 30,
   "id": "448695bb",
   "metadata": {},
   "outputs": [],
   "source": [
    "#filter data kurang dari 6\n",
    "\n",
    "x_train = x_train[x_train['bathrooms']<6]"
   ]
  },
  {
   "cell_type": "code",
   "execution_count": 31,
   "id": "9d1fd67b",
   "metadata": {
    "scrolled": true
   },
   "outputs": [
    {
     "data": {
      "text/plain": [
       "Text(0.5, 1.0, 'Luas Kamar Mandi vs Harga')"
      ]
     },
     "execution_count": 31,
     "metadata": {},
     "output_type": "execute_result"
    },
    {
     "data": {
      "image/png": "[encoded data removed]",
      "text/plain": [
       "<Figure size 432x288 with 1 Axes>"
      ]
     },
     "metadata": {
      "needs_background": "light"
     },
     "output_type": "display_data"
    }
   ],
   "source": [
    "sns.boxplot(data=x_train,x='bathrooms',y='price',showfliers=False)\n",
    "plt.xticks(rotation=90);\n",
    "plt.title('Luas Kamar Mandi vs Harga', fontsize=14)"
   ]
  },
  {
   "cell_type": "markdown",
   "id": "8caedbfc",
   "metadata": {},
   "source": [
    "Dari boxplot diatas, dapat diketahui bahwa luas kamar mandi berpengaruh pada harga. Harga akan meningkat seiring bertambahnya luas kamar mandi. Tetapi ketika luas kamar mandi lebih dari 4.75 harga cenderung menurun. Dengan demikian, dapat disimpulkan bahwa ukuran optimal dari luas kamar mandi adalah 4.75 sqft"
   ]
  },
  {
   "cell_type": "markdown",
   "id": "ac8c9c11",
   "metadata": {},
   "source": [
    "### 4.4.2.3 Luas Basement"
   ]
  },
  {
   "cell_type": "code",
   "execution_count": 32,
   "id": "4e24e203",
   "metadata": {},
   "outputs": [
    {
     "data": {
      "text/plain": [
       "Text(0.5, 1.0, 'Luas Basement vs Harga Rumah')"
      ]
     },
     "execution_count": 32,
     "metadata": {},
     "output_type": "execute_result"
    },
    {
     "data": {
      "image/png": "[encoded data removed]",
      "text/plain": [
       "<Figure size 432x288 with 1 Axes>"
      ]
     },
     "metadata": {
      "needs_background": "light"
     },
     "output_type": "display_data"
    }
   ],
   "source": [
    "#melihat hubungan sqft_basement dan price\n",
    "\n",
    "sns.regplot(data=x_train, x='sqft_basement',y='price')\n",
    "plt.title('Luas Basement vs Harga Rumah', fontsize=14)"
   ]
  },
  {
   "cell_type": "markdown",
   "id": "3a254d27",
   "metadata": {},
   "source": [
    "Dari regresi plot diagram, dapat disimpulkan bahwa luas basement berpengaruh terhadap harga rumah. Namun pengaruhnya tidak signifikan. Untuk itu perlu membuat feature baru, dengan tujuan mengetahui pengaruh ada tidaknya basement terhadap harga rumah"
   ]
  },
  {
   "cell_type": "markdown",
   "id": "178b4cce",
   "metadata": {},
   "source": [
    "#### Membuat Feature Baru"
   ]
  },
  {
   "cell_type": "code",
   "execution_count": 33,
   "id": "a2113446",
   "metadata": {
    "scrolled": true
   },
   "outputs": [],
   "source": [
    "#Feature\n",
    "x_train['is_basement']=x_train['sqft_basement'].apply(lambda x :1 if x>0 else 0)"
   ]
  },
  {
   "cell_type": "code",
   "execution_count": 34,
   "id": "1ed1b9b9",
   "metadata": {},
   "outputs": [
    {
     "name": "stdout",
     "output_type": "stream",
     "text": [
      "<class 'pandas.core.frame.DataFrame'>\n",
      "Int64Index: 3181 entries, 2194 to 860\n",
      "Data columns (total 15 columns):\n",
      " #   Column         Non-Null Count  Dtype         \n",
      "---  ------         --------------  -----         \n",
      " 0   sold_date      3181 non-null   datetime64[ns]\n",
      " 1   bedrooms       3181 non-null   int64         \n",
      " 2   bathrooms      3181 non-null   float64       \n",
      " 3   sqft_living    3181 non-null   int64         \n",
      " 4   sqft_lot       3181 non-null   int64         \n",
      " 5   floors         3181 non-null   float64       \n",
      " 6   waterfront     3181 non-null   int64         \n",
      " 7   view           3181 non-null   int64         \n",
      " 8   condition      3181 non-null   int64         \n",
      " 9   sqft_above     3181 non-null   int64         \n",
      " 10  sqft_basement  3181 non-null   int64         \n",
      " 11  yr_built       3181 non-null   int64         \n",
      " 12  yr_renovated   3181 non-null   int64         \n",
      " 13  price          3181 non-null   float64       \n",
      " 14  is_basement    3181 non-null   int64         \n",
      "dtypes: datetime64[ns](1), float64(3), int64(11)\n",
      "memory usage: 397.6 KB\n"
     ]
    }
   ],
   "source": [
    "x_train.info()"
   ]
  },
  {
   "cell_type": "markdown",
   "id": "d205226d",
   "metadata": {},
   "source": [
    "#### Summary Data - 5\n",
    "x_train\n",
    "1. Terdapat 1 feature baru = is_basement "
   ]
  },
  {
   "cell_type": "code",
   "execution_count": 35,
   "id": "8e324a58",
   "metadata": {},
   "outputs": [
    {
     "data": {
      "text/plain": [
       "Text(0.5, 1.0, 'Ada/Tidaknya Basement vs Harga')"
      ]
     },
     "execution_count": 35,
     "metadata": {},
     "output_type": "execute_result"
    },
    {
     "data": {
      "image/png": "[encoded data removed]",
      "text/plain": [
       "<Figure size 432x288 with 1 Axes>"
      ]
     },
     "metadata": {
      "needs_background": "light"
     },
     "output_type": "display_data"
    }
   ],
   "source": [
    "#melihat hubungan is_basement dan price\n",
    "\n",
    "sns.boxplot(data=x_train,x='is_basement',y='price',showfliers=False)\n",
    "plt.title('Ada/Tidaknya Basement vs Harga', fontsize=14)"
   ]
  },
  {
   "cell_type": "code",
   "execution_count": 36,
   "id": "ae2b2a94",
   "metadata": {
    "scrolled": true
   },
   "outputs": [
    {
     "name": "stderr",
     "output_type": "stream",
     "text": [
      "C:\\Users\\hp\\AppData\\Local\\Programs\\Python\\Python310\\lib\\site-packages\\seaborn\\distributions.py:2619: FutureWarning: `distplot` is a deprecated function and will be removed in a future version. Please adapt your code to use either `displot` (a figure-level function with similar flexibility) or `kdeplot` (an axes-level function for kernel density plots).\n",
      "  warnings.warn(msg, FutureWarning)\n",
      "C:\\Users\\hp\\AppData\\Local\\Programs\\Python\\Python310\\lib\\site-packages\\seaborn\\distributions.py:2619: FutureWarning: `distplot` is a deprecated function and will be removed in a future version. Please adapt your code to use either `displot` (a figure-level function with similar flexibility) or `kdeplot` (an axes-level function for kernel density plots).\n",
      "  warnings.warn(msg, FutureWarning)\n"
     ]
    },
    {
     "data": {
      "text/plain": [
       "<matplotlib.legend.Legend at 0x2247ceb7220>"
      ]
     },
     "execution_count": 36,
     "metadata": {},
     "output_type": "execute_result"
    },
    {
     "data": {
      "image/png": "[encoded data removed]",
      "text/plain": [
       "<Figure size 432x288 with 1 Axes>"
      ]
     },
     "metadata": {
      "needs_background": "light"
     },
     "output_type": "display_data"
    }
   ],
   "source": [
    "#membuat density plot untuk mengetahui distribusi harga dengan variabel ada/tidaknya basement\n",
    "#melakukan transformasi agar menjadi distribusi normal\n",
    "\n",
    "sns.distplot(np.log1p(x_train[x_train['is_basement']==0]['price']),color='green',hist=False,label='No Basement')\n",
    "sns.distplot(np.log1p(x_train[x_train['is_basement']==1]['price']),color='red',hist=False,label='Ada Basement')\n",
    "plt.title('Distribusi Harga Rumah dengan Kondisi Ada/Tidaknya Basement',fontsize=12)\n",
    "plt.legend()"
   ]
  },
  {
   "cell_type": "markdown",
   "id": "2f40fbd0",
   "metadata": {},
   "source": [
    "Dari boxplot dan displot hubungan Ada/Tidaknya Basement dan Harga Rumah, dapat diketahui bahwa harga rumah dengan basement akan lebih tinggi dari pada yang tidak memiliki basement"
   ]
  },
  {
   "cell_type": "code",
   "execution_count": 37,
   "id": "b25c6285",
   "metadata": {},
   "outputs": [
    {
     "name": "stdout",
     "output_type": "stream",
     "text": [
      "Kesimpulan : nilai p_value 4.887703175350493e-29 kurang dari alpha 0.05\n",
      "Ada perbedaan yang signifikan dari segi harga antara rumah yang memiliki basement dan tidak\n"
     ]
    }
   ],
   "source": [
    "#menguji secara statistik\n",
    "#melakukan transformasi agar menjadi distribusi \n",
    "\n",
    "price_basement = np.log1p(x_train[x_train['is_basement']==1]['price'])\n",
    "price_no_basement = np.log1p(x_train[x_train['is_basement']==0]['price'])\n",
    "\n",
    "alpha = 0.05\n",
    "t_value1,p_value1 = stats.ttest_ind(price_no_basement,price_basement)\n",
    "\n",
    "if p_value1 < alpha :\n",
    "    print(f'Kesimpulan : nilai p_value {p_value1} kurang dari alpha {alpha}')\n",
    "    print('Ada perbedaan yang signifikan dari segi harga antara rumah yang memiliki basement dan tidak')\n",
    "\n",
    "else :\n",
    "    print(f'Kesimpulan : nilai p_value {p_value1} lebih dari alpha {alpha}')\n",
    "    print('Tidak ada perbedaan yang signifikan dari segi harga antara rumah yang memiliki basement dan tidak')"
   ]
  },
  {
   "cell_type": "markdown",
   "id": "895d51ba",
   "metadata": {},
   "source": [
    "### 4.4.2.4 Jumlah Kamar"
   ]
  },
  {
   "cell_type": "code",
   "execution_count": 38,
   "id": "1563ec53",
   "metadata": {},
   "outputs": [
    {
     "data": {
      "text/plain": [
       "Text(0.5, 1.0, 'Jumlah Kamar vs Harga')"
      ]
     },
     "execution_count": 38,
     "metadata": {},
     "output_type": "execute_result"
    },
    {
     "data": {
      "image/png": "[encoded data removed]",
      "text/plain": [
       "<Figure size 432x288 with 1 Axes>"
      ]
     },
     "metadata": {
      "needs_background": "light"
     },
     "output_type": "display_data"
    }
   ],
   "source": [
    "#mengetahui hubungan jumlah kamar terhadap harga rumah\n",
    "\n",
    "sns.boxplot(data=x_train,x='bedrooms',y='price')\n",
    "plt.title('Jumlah Kamar vs Harga',fontsize=14)"
   ]
  },
  {
   "cell_type": "code",
   "execution_count": 39,
   "id": "1c78b7ee",
   "metadata": {},
   "outputs": [
    {
     "data": {
      "text/html": [
       "<div>\n",
       "<style scoped>\n",
       "    .dataframe tbody tr th:only-of-type {\n",
       "        vertical-align: middle;\n",
       "    }\n",
       "\n",
       "    .dataframe tbody tr th {\n",
       "        vertical-align: top;\n",
       "    }\n",
       "\n",
       "    .dataframe thead th {\n",
       "        text-align: right;\n",
       "    }\n",
       "</style>\n",
       "<table border=\"1\" class=\"dataframe\">\n",
       "  <thead>\n",
       "    <tr style=\"text-align: right;\">\n",
       "      <th></th>\n",
       "      <th>sold_date</th>\n",
       "      <th>bedrooms</th>\n",
       "      <th>bathrooms</th>\n",
       "      <th>sqft_living</th>\n",
       "      <th>sqft_lot</th>\n",
       "      <th>floors</th>\n",
       "      <th>waterfront</th>\n",
       "      <th>view</th>\n",
       "      <th>condition</th>\n",
       "      <th>sqft_above</th>\n",
       "      <th>sqft_basement</th>\n",
       "      <th>yr_built</th>\n",
       "      <th>yr_renovated</th>\n",
       "      <th>price</th>\n",
       "      <th>is_basement</th>\n",
       "    </tr>\n",
       "  </thead>\n",
       "  <tbody>\n",
       "    <tr>\n",
       "      <th>241</th>\n",
       "      <td>2014-05-07</td>\n",
       "      <td>9</td>\n",
       "      <td>4.5</td>\n",
       "      <td>3830</td>\n",
       "      <td>6988</td>\n",
       "      <td>2.5</td>\n",
       "      <td>0</td>\n",
       "      <td>0</td>\n",
       "      <td>3</td>\n",
       "      <td>2450</td>\n",
       "      <td>1380</td>\n",
       "      <td>1938</td>\n",
       "      <td>2003</td>\n",
       "      <td>599999.0</td>\n",
       "      <td>1</td>\n",
       "    </tr>\n",
       "  </tbody>\n",
       "</table>\n",
       "</div>"
      ],
      "text/plain": [
       "     sold_date  bedrooms  bathrooms  sqft_living  sqft_lot  floors  \\\n",
       "241 2014-05-07         9        4.5         3830      6988     2.5   \n",
       "\n",
       "     waterfront  view  condition  sqft_above  sqft_basement  yr_built  \\\n",
       "241           0     0          3        2450           1380      1938   \n",
       "\n",
       "     yr_renovated     price  is_basement  \n",
       "241          2003  599999.0            1  "
      ]
     },
     "execution_count": 39,
     "metadata": {},
     "output_type": "execute_result"
    }
   ],
   "source": [
    "x_train[x_train['bedrooms']==9]"
   ]
  },
  {
   "cell_type": "code",
   "execution_count": 40,
   "id": "969aa5ff",
   "metadata": {},
   "outputs": [],
   "source": [
    "#filer data selain 9\n",
    "\n",
    "x_train= x_train[x_train['bedrooms']<9]"
   ]
  },
  {
   "cell_type": "code",
   "execution_count": 41,
   "id": "721dbc8b",
   "metadata": {
    "scrolled": true
   },
   "outputs": [
    {
     "data": {
      "text/plain": [
       "Text(0.5, 1.0, 'Jumlah Kamar vs Harga')"
      ]
     },
     "execution_count": 41,
     "metadata": {},
     "output_type": "execute_result"
    },
    {
     "data": {
      "image/png": "[encoded data removed]",
      "text/plain": [
       "<Figure size 432x288 with 1 Axes>"
      ]
     },
     "metadata": {
      "needs_background": "light"
     },
     "output_type": "display_data"
    }
   ],
   "source": [
    "sns.boxplot(data=x_train,x='bedrooms',y='price',showfliers=False)\n",
    "plt.title('Jumlah Kamar vs Harga',fontsize=14)"
   ]
  },
  {
   "cell_type": "code",
   "execution_count": 42,
   "id": "51e05fe1",
   "metadata": {
    "scrolled": true
   },
   "outputs": [
    {
     "data": {
      "text/plain": [
       "Text(0.5, 1.0, 'Jumlah Kamar vs Luas Bangunan')"
      ]
     },
     "execution_count": 42,
     "metadata": {},
     "output_type": "execute_result"
    },
    {
     "data": {
      "image/png": "[encoded data removed]",
      "text/plain": [
       "<Figure size 432x288 with 1 Axes>"
      ]
     },
     "metadata": {
      "needs_background": "light"
     },
     "output_type": "display_data"
    }
   ],
   "source": [
    "sns.boxplot(data=x_train,x='bedrooms',y='sqft_living',showfliers=False)\n",
    "plt.title('Jumlah Kamar vs Luas Bangunan',fontsize=14)"
   ]
  },
  {
   "cell_type": "code",
   "execution_count": 43,
   "id": "468d1f1b",
   "metadata": {},
   "outputs": [
    {
     "name": "stderr",
     "output_type": "stream",
     "text": [
      "C:\\Users\\hp\\AppData\\Local\\Programs\\Python\\Python310\\lib\\site-packages\\seaborn\\distributions.py:2619: FutureWarning: `distplot` is a deprecated function and will be removed in a future version. Please adapt your code to use either `displot` (a figure-level function with similar flexibility) or `kdeplot` (an axes-level function for kernel density plots).\n",
      "  warnings.warn(msg, FutureWarning)\n",
      "C:\\Users\\hp\\AppData\\Local\\Programs\\Python\\Python310\\lib\\site-packages\\seaborn\\distributions.py:2619: FutureWarning: `distplot` is a deprecated function and will be removed in a future version. Please adapt your code to use either `displot` (a figure-level function with similar flexibility) or `kdeplot` (an axes-level function for kernel density plots).\n",
      "  warnings.warn(msg, FutureWarning)\n"
     ]
    },
    {
     "data": {
      "text/plain": [
       "<matplotlib.legend.Legend at 0x2247b6ac6d0>"
      ]
     },
     "execution_count": 43,
     "metadata": {},
     "output_type": "execute_result"
    },
    {
     "data": {
      "image/png": "[encoded data removed]",
      "text/plain": [
       "<Figure size 432x288 with 1 Axes>"
      ]
     },
     "metadata": {
      "needs_background": "light"
     },
     "output_type": "display_data"
    }
   ],
   "source": [
    "#mengetahui hubungan distribusi harga dengan jumlah kamar 7 dan 8\n",
    "#melakukan transformasi agar menjadi distribusi normal\n",
    "\n",
    "sns.distplot(np.log1p(x_train[x_train['bedrooms']==7]['price']),color='green',hist=False,label='7 Kamar')\n",
    "sns.distplot(np.log1p(x_train[x_train['bedrooms']==8]['price']),color='red',hist=False,label='8 Kamar')\n",
    "plt.title('Distribusi Harga dengan Kondisi Jumlah Kamar 7 dan 8',fontsize=12)\n",
    "plt.legend()\n"
   ]
  },
  {
   "cell_type": "code",
   "execution_count": 44,
   "id": "e576849a",
   "metadata": {},
   "outputs": [
    {
     "name": "stdout",
     "output_type": "stream",
     "text": [
      "Kesimpulan : nilai p_value 0.8279905986942825 lebih dari alpha 0.05\n",
      "Tidak ada perbedaan yang signifikan dari segi harga antara rumah dengan jumlah kamar 7 dan 8\n"
     ]
    }
   ],
   "source": [
    "#menguji secara statistik\n",
    "#melakukan transformasi agar menjadi distribusi normal\n",
    "\n",
    "price_8 = np.log1p(x_train[x_train['bedrooms']==8]['price'])\n",
    "price_7 = np.log1p(x_train[x_train['bedrooms']==7]['price'])\n",
    "\n",
    "alpha = 0.05\n",
    "t_value1,p_value1 = stats.f_oneway(price_7,price_8)\n",
    "\n",
    "if p_value1 < alpha :\n",
    "    print(f'Kesimpulan : nilai p_value {p_value1} kurang dari alpha {alpha}')\n",
    "    print('Ada perbedaan yang signifikan dari segi harga antara rumah dengan jumlah kamar 7 dan 8')\n",
    "\n",
    "else :\n",
    "    print(f'Kesimpulan : nilai p_value {p_value1} lebih dari alpha {alpha}')\n",
    "    print('Tidak ada perbedaan yang signifikan dari segi harga antara rumah dengan jumlah kamar 7 dan 8')"
   ]
  },
  {
   "cell_type": "code",
   "execution_count": 45,
   "id": "4939224f",
   "metadata": {},
   "outputs": [
    {
     "name": "stderr",
     "output_type": "stream",
     "text": [
      "C:\\Users\\hp\\AppData\\Local\\Programs\\Python\\Python310\\lib\\site-packages\\seaborn\\distributions.py:2619: FutureWarning: `distplot` is a deprecated function and will be removed in a future version. Please adapt your code to use either `displot` (a figure-level function with similar flexibility) or `kdeplot` (an axes-level function for kernel density plots).\n",
      "  warnings.warn(msg, FutureWarning)\n",
      "C:\\Users\\hp\\AppData\\Local\\Programs\\Python\\Python310\\lib\\site-packages\\seaborn\\distributions.py:2619: FutureWarning: `distplot` is a deprecated function and will be removed in a future version. Please adapt your code to use either `displot` (a figure-level function with similar flexibility) or `kdeplot` (an axes-level function for kernel density plots).\n",
      "  warnings.warn(msg, FutureWarning)\n"
     ]
    },
    {
     "data": {
      "text/plain": [
       "<matplotlib.legend.Legend at 0x2247f16d8a0>"
      ]
     },
     "execution_count": 45,
     "metadata": {},
     "output_type": "execute_result"
    },
    {
     "data": {
      "image/png": "[encoded data removed]",
      "text/plain": [
       "<Figure size 432x288 with 1 Axes>"
      ]
     },
     "metadata": {
      "needs_background": "light"
     },
     "output_type": "display_data"
    }
   ],
   "source": [
    "#mengetahui hubungan distribusi luas bangunan dengan jumlah kamar 7 dan 8\n",
    "#melakukan transformasi agar menjadi distribusi normal\n",
    "\n",
    "sns.distplot(np.log1p(x_train[x_train['bedrooms']==7]['sqft_living']),color='green',hist=False,label='7 Kamar')\n",
    "sns.distplot(np.log1p(x_train[x_train['bedrooms']==8]['sqft_living']),color='red',hist=False,label='8 Kamar')\n",
    "plt.title('Distribusi Luas Bangunan dengan Kondisi Jumlah Kamar 7 dan 8',fontsize=12)\n",
    "plt.legend()"
   ]
  },
  {
   "cell_type": "code",
   "execution_count": 46,
   "id": "2c0831c8",
   "metadata": {},
   "outputs": [
    {
     "name": "stdout",
     "output_type": "stream",
     "text": [
      "Kesimpulan : nilai p_value 0.9946527798842163 lebih dari alpha 0.05\n",
      "Tidak ada perbedaan yang signifikan dari segi luas bangunan antara rumah dengan jumlah kamar 7 dan 8\n"
     ]
    }
   ],
   "source": [
    "#menguji secara statistik\n",
    "##melakukan transformasi agar menjadi distribusi normal\n",
    "\n",
    "luasbangunan_8 = np.log1p(x_train[x_train['bedrooms']==8]['sqft_living'])\n",
    "luasbangunan_7 = np.log1p(x_train[x_train['bedrooms']==7]['sqft_living'])\n",
    "\n",
    "alpha = 0.05\n",
    "t_value1,p_value1 = stats.ttest_ind(luasbangunan_7,luasbangunan_8)\n",
    "\n",
    "if p_value1 < alpha :\n",
    "    print(f'Kesimpulan : nilai p_value {p_value1} kurang dari alpha {alpha}')\n",
    "    print('Ada perbedaan yang signifikan dari segi luas bangunan antara rumah dengan jumlah kamar 7 dan 8')\n",
    "\n",
    "else :\n",
    "    print(f'Kesimpulan : nilai p_value {p_value1} lebih dari alpha {alpha}')\n",
    "    print('Tidak ada perbedaan yang signifikan dari segi luas bangunan antara rumah dengan jumlah kamar 7 dan 8')"
   ]
  },
  {
   "cell_type": "markdown",
   "id": "c1d575e8",
   "metadata": {},
   "source": [
    "Jumlah kamar berpengaruh terhadap harga rumah hal ini didukung dengan :\n",
    "<br/>\n",
    "1. Boxplot Hubungan Jumlah Kamar dan Harga Rumah, trend harga meningkat seiring dengan bertambahnya jumlah kamar\n",
    "2. Boxplot Hubungan Jumlah Kamar dan Luas Bangunan, dimana semakin banyak jumlah kamar semakin besar luas bangunan rumah<br/>\n",
    "<br/>\n",
    "Ketika dianalisa lebih lanjut menggunakan uji statistik, ternyata jumlah kamar paling optimal adalah 7"
   ]
  },
  {
   "cell_type": "markdown",
   "id": "2e29a65f",
   "metadata": {},
   "source": [
    "### 4.4.2.5 Jumlah Lantai"
   ]
  },
  {
   "cell_type": "code",
   "execution_count": 47,
   "id": "8fdb10ce",
   "metadata": {},
   "outputs": [
    {
     "data": {
      "text/plain": [
       "Text(0.5, 1.0, 'Jumlah Lantai vs Harga')"
      ]
     },
     "execution_count": 47,
     "metadata": {},
     "output_type": "execute_result"
    },
    {
     "data": {
      "image/png": "[encoded data removed]",
      "text/plain": [
       "<Figure size 432x288 with 1 Axes>"
      ]
     },
     "metadata": {
      "needs_background": "light"
     },
     "output_type": "display_data"
    }
   ],
   "source": [
    "#mengetahui hubungan jumlah lantai dengan harga rumah\n",
    "\n",
    "sns.boxplot(data=x_train,x='floors',y='price',showfliers=False)\n",
    "plt.title('Jumlah Lantai vs Harga',fontsize=14)"
   ]
  },
  {
   "cell_type": "code",
   "execution_count": 48,
   "id": "bb1a0e24",
   "metadata": {},
   "outputs": [
    {
     "data": {
      "text/html": [
       "<div>\n",
       "<style scoped>\n",
       "    .dataframe tbody tr th:only-of-type {\n",
       "        vertical-align: middle;\n",
       "    }\n",
       "\n",
       "    .dataframe tbody tr th {\n",
       "        vertical-align: top;\n",
       "    }\n",
       "\n",
       "    .dataframe thead th {\n",
       "        text-align: right;\n",
       "    }\n",
       "</style>\n",
       "<table border=\"1\" class=\"dataframe\">\n",
       "  <thead>\n",
       "    <tr style=\"text-align: right;\">\n",
       "      <th>floors</th>\n",
       "      <th>1.0</th>\n",
       "      <th>1.5</th>\n",
       "      <th>2.0</th>\n",
       "      <th>2.5</th>\n",
       "      <th>3.0</th>\n",
       "    </tr>\n",
       "    <tr>\n",
       "      <th>sqft_living</th>\n",
       "      <th></th>\n",
       "      <th></th>\n",
       "      <th></th>\n",
       "      <th></th>\n",
       "      <th></th>\n",
       "    </tr>\n",
       "  </thead>\n",
       "  <tbody>\n",
       "    <tr>\n",
       "      <th>1480</th>\n",
       "      <td>360750.0</td>\n",
       "      <td>449250.0</td>\n",
       "      <td>458400.00</td>\n",
       "      <td>620000.0</td>\n",
       "      <td>420000.00</td>\n",
       "    </tr>\n",
       "    <tr>\n",
       "      <th>1620</th>\n",
       "      <td>459000.0</td>\n",
       "      <td>305875.0</td>\n",
       "      <td>386000.00</td>\n",
       "      <td>415000.0</td>\n",
       "      <td>505138.89</td>\n",
       "    </tr>\n",
       "    <tr>\n",
       "      <th>1750</th>\n",
       "      <td>325000.0</td>\n",
       "      <td>605000.0</td>\n",
       "      <td>415500.00</td>\n",
       "      <td>626000.0</td>\n",
       "      <td>525000.00</td>\n",
       "    </tr>\n",
       "    <tr>\n",
       "      <th>1980</th>\n",
       "      <td>432500.0</td>\n",
       "      <td>660000.0</td>\n",
       "      <td>342246.43</td>\n",
       "      <td>744000.0</td>\n",
       "      <td>547500.00</td>\n",
       "    </tr>\n",
       "  </tbody>\n",
       "</table>\n",
       "</div>"
      ],
      "text/plain": [
       "floors            1.0       1.5        2.0       2.5        3.0\n",
       "sqft_living                                                    \n",
       "1480         360750.0  449250.0  458400.00  620000.0  420000.00\n",
       "1620         459000.0  305875.0  386000.00  415000.0  505138.89\n",
       "1750         325000.0  605000.0  415500.00  626000.0  525000.00\n",
       "1980         432500.0  660000.0  342246.43  744000.0  547500.00"
      ]
     },
     "execution_count": 48,
     "metadata": {},
     "output_type": "execute_result"
    }
   ],
   "source": [
    "#hubungan jumlah lantai, luas bangunan, dan harga\n",
    "\n",
    "pd.pivot_table(x_train,index='sqft_living',columns='floors',values='price',aggfunc='median').dropna()\n",
    "pivot_floor = round(pd.pivot_table(x_train,index='sqft_living',columns='floors',values='price',aggfunc='median').dropna(),2)\n",
    "pivot_floor"
   ]
  },
  {
   "cell_type": "markdown",
   "id": "f2942616",
   "metadata": {},
   "source": [
    "Dari data diatas, dapat disimpulkan bahwa harga rumah paling tinggi saat jumlah lantai adalah 2.5. Hal ini didukung dengan :<br/>\n",
    "<br/>\n",
    "1. Boxplot hubungan Jumlah Lantai dengan Harga, harga rumah meningkat sampai pada kondisi rumah dengan 2.5 lantai. <br/>\n",
    "   diatas 2.5 harga rumah mengalami penurunan<br/>\n",
    "2. Ketika kita membandingkan jumlah lantai pada luas bangunan yang sama, dapat diketahui bahwa harga rumah cenderung <br/>\n",
    "   paling mahal saat rumah memiliki 2.5 lantai <br/>\n",
    "<br/>"
   ]
  },
  {
   "cell_type": "markdown",
   "id": "486e82e9",
   "metadata": {},
   "source": [
    "### Wrap Up - Kesimpulan Faktor Internal"
   ]
  },
  {
   "cell_type": "markdown",
   "id": "9254f948",
   "metadata": {},
   "source": [
    "Faktor-faktor yang dapat meningkatkan harga rumah :\n",
    "\n",
    "1. Luas bangunan sebanding dengan peningkatan harga rumah\n",
    "2. Rumah ada basement akan memiliki harga rumah yang lebih tinggi daripada yang tidak memiliki basement\n",
    "3. Luas kamar mandi yang optimal adalah 4.75 sqft \n",
    "4. Jumlah kamar paling optimal adalah 7\n",
    "5. Jumlah lantai paling optimal adalah 2.5"
   ]
  },
  {
   "cell_type": "markdown",
   "id": "a3839afb",
   "metadata": {},
   "source": [
    "## 4.4.3 Analisa Pengaruh External"
   ]
  },
  {
   "cell_type": "markdown",
   "id": "7c5ab69a",
   "metadata": {},
   "source": [
    "### 4.4.3.1 Lokasi Rumah (Dekat dengan Pantai/Sungai/Danau)"
   ]
  },
  {
   "cell_type": "code",
   "execution_count": 49,
   "id": "b24c9471",
   "metadata": {
    "scrolled": true
   },
   "outputs": [
    {
     "data": {
      "text/plain": [
       "Text(0.5, 1.0, 'Waterfront vs Harga')"
      ]
     },
     "execution_count": 49,
     "metadata": {},
     "output_type": "execute_result"
    },
    {
     "data": {
      "image/png": "[encoded data removed]",
      "text/plain": [
       "<Figure size 432x288 with 1 Axes>"
      ]
     },
     "metadata": {
      "needs_background": "light"
     },
     "output_type": "display_data"
    }
   ],
   "source": [
    "#mengetahui pengaruh waterfront dengan price\n",
    "sns.boxplot(data=x_train,x='waterfront',y='price',showfliers=False)\n",
    "plt.title('Waterfront vs Harga',fontsize=14)"
   ]
  },
  {
   "cell_type": "code",
   "execution_count": 50,
   "id": "0f0ec936",
   "metadata": {},
   "outputs": [
    {
     "data": {
      "text/plain": [
       "Text(0.5, 1.0, 'Waterfront & Luas Bangunan vs Harga')"
      ]
     },
     "execution_count": 50,
     "metadata": {},
     "output_type": "execute_result"
    },
    {
     "data": {
      "image/png": "[encoded data removed]",
      "text/plain": [
       "<Figure size 432x288 with 1 Axes>"
      ]
     },
     "metadata": {
      "needs_background": "light"
     },
     "output_type": "display_data"
    }
   ],
   "source": [
    "#mengetahui pengaruh waterfront dengan price dan sqft_living\n",
    "pd.pivot_table(x_train,index='sqft_living',columns='waterfront',values='price',aggfunc='median').dropna().plot(kind='bar')\n",
    "plt.title('Waterfront & Luas Bangunan vs Harga',fontsize=14)"
   ]
  },
  {
   "cell_type": "code",
   "execution_count": 51,
   "id": "caaf6b48",
   "metadata": {},
   "outputs": [
    {
     "name": "stderr",
     "output_type": "stream",
     "text": [
      "C:\\Users\\hp\\AppData\\Local\\Programs\\Python\\Python310\\lib\\site-packages\\seaborn\\distributions.py:2619: FutureWarning: `distplot` is a deprecated function and will be removed in a future version. Please adapt your code to use either `displot` (a figure-level function with similar flexibility) or `kdeplot` (an axes-level function for kernel density plots).\n",
      "  warnings.warn(msg, FutureWarning)\n",
      "C:\\Users\\hp\\AppData\\Local\\Programs\\Python\\Python310\\lib\\site-packages\\seaborn\\distributions.py:2619: FutureWarning: `distplot` is a deprecated function and will be removed in a future version. Please adapt your code to use either `displot` (a figure-level function with similar flexibility) or `kdeplot` (an axes-level function for kernel density plots).\n",
      "  warnings.warn(msg, FutureWarning)\n"
     ]
    },
    {
     "data": {
      "text/plain": [
       "<matplotlib.legend.Legend at 0x2247f487940>"
      ]
     },
     "execution_count": 51,
     "metadata": {},
     "output_type": "execute_result"
    },
    {
     "data": {
      "image/png": "[encoded data removed]",
      "text/plain": [
       "<Figure size 432x288 with 1 Axes>"
      ]
     },
     "metadata": {
      "needs_background": "light"
     },
     "output_type": "display_data"
    }
   ],
   "source": [
    "#mengetahui hubungan distribusi harga rumah dengan lokasi rumah\n",
    "#melakukan transformasi agar menjadi distribusi normal\n",
    "\n",
    "sns.distplot(np.log1p(x_train[x_train['waterfront']==1]['price']),color='green',hist=False,label='Waterfront')\n",
    "sns.distplot(np.log1p(x_train[x_train['waterfront']==0]['price']),color='red',hist=False,label='No Waterfront')\n",
    "plt.title('Distribusi Harga Rumah vs Waterfront',fontsize=12)\n",
    "plt.legend()\n"
   ]
  },
  {
   "cell_type": "code",
   "execution_count": 52,
   "id": "b0f5741e",
   "metadata": {},
   "outputs": [
    {
     "name": "stdout",
     "output_type": "stream",
     "text": [
      "Kesimpulan : nilai p_value 6.323869118938553e-14 kurang dari alpha 0.05\n",
      "Ada perbedaan yang signifikan dari segi harga antara rumah yang berlokasi dekat pantai/danau/sungai dan tidak\n"
     ]
    }
   ],
   "source": [
    "#menguji secara statistik\n",
    "#melakukan transformasi agar menjadi distribusi normal\n",
    "\n",
    "price_with = np.log1p(x_train[x_train['waterfront']==1]['price'])\n",
    "price_without = np.log1p(x_train[x_train['waterfront']==0]['price'])\n",
    "\n",
    "alpha = 0.05\n",
    "t_value1,p_value1 = stats.ttest_ind(price_without,price_with)\n",
    "\n",
    "if p_value1 < alpha :\n",
    "    print(f'Kesimpulan : nilai p_value {p_value1} kurang dari alpha {alpha}')\n",
    "    print('Ada perbedaan yang signifikan dari segi harga antara rumah yang berlokasi dekat pantai/danau/sungai dan tidak')\n",
    "\n",
    "else :\n",
    "    print(f'Kesimpulan : nilai p_value {p_value1} lebih dari alpha {alpha}')\n",
    "    print('Tidak ada perbedaan yang signifikan dari segi harga antara rumah yang berlokasi dekat pantai.danau/sungai dan tidak')"
   ]
  },
  {
   "cell_type": "markdown",
   "id": "591ff399",
   "metadata": {},
   "source": [
    "Dari hasil uji statistik dan boxplot, dapat diketahui bahwa lokasi rumah yang dekat dengan pantai/danau/sungai memiliki harga yang lebih tinggi daripada yang tidak. Lalu jika kita bandingkan rumah dengan luas bangunan yang sama, harga rumah tetap lebih tinggi jika dekat dengan pantai/danau/sungai, tetapi harga rumah cenderung fluktuatif"
   ]
  },
  {
   "cell_type": "markdown",
   "id": "33fcea37",
   "metadata": {},
   "source": [
    "### 4.4.3.2 View"
   ]
  },
  {
   "cell_type": "code",
   "execution_count": 53,
   "id": "8be798c4",
   "metadata": {},
   "outputs": [
    {
     "data": {
      "text/plain": [
       "Text(0.5, 1.0, 'View vs Harga')"
      ]
     },
     "execution_count": 53,
     "metadata": {},
     "output_type": "execute_result"
    },
    {
     "data": {
      "image/png": "[encoded data removed]",
      "text/plain": [
       "<Figure size 432x288 with 1 Axes>"
      ]
     },
     "metadata": {
      "needs_background": "light"
     },
     "output_type": "display_data"
    }
   ],
   "source": [
    "#mengetahui pengaruh view dengan price\n",
    "sns.boxplot(data=x_train,x='view',y='price',showfliers=False)\n",
    "plt.title('View vs Harga',fontsize=14)"
   ]
  },
  {
   "cell_type": "code",
   "execution_count": 54,
   "id": "3a5de7be",
   "metadata": {},
   "outputs": [
    {
     "name": "stderr",
     "output_type": "stream",
     "text": [
      "C:\\Users\\hp\\AppData\\Local\\Programs\\Python\\Python310\\lib\\site-packages\\seaborn\\distributions.py:2619: FutureWarning: `distplot` is a deprecated function and will be removed in a future version. Please adapt your code to use either `displot` (a figure-level function with similar flexibility) or `kdeplot` (an axes-level function for kernel density plots).\n",
      "  warnings.warn(msg, FutureWarning)\n",
      "C:\\Users\\hp\\AppData\\Local\\Programs\\Python\\Python310\\lib\\site-packages\\seaborn\\distributions.py:2619: FutureWarning: `distplot` is a deprecated function and will be removed in a future version. Please adapt your code to use either `displot` (a figure-level function with similar flexibility) or `kdeplot` (an axes-level function for kernel density plots).\n",
      "  warnings.warn(msg, FutureWarning)\n",
      "C:\\Users\\hp\\AppData\\Local\\Programs\\Python\\Python310\\lib\\site-packages\\seaborn\\distributions.py:2619: FutureWarning: `distplot` is a deprecated function and will be removed in a future version. Please adapt your code to use either `displot` (a figure-level function with similar flexibility) or `kdeplot` (an axes-level function for kernel density plots).\n",
      "  warnings.warn(msg, FutureWarning)\n",
      "C:\\Users\\hp\\AppData\\Local\\Programs\\Python\\Python310\\lib\\site-packages\\seaborn\\distributions.py:2619: FutureWarning: `distplot` is a deprecated function and will be removed in a future version. Please adapt your code to use either `displot` (a figure-level function with similar flexibility) or `kdeplot` (an axes-level function for kernel density plots).\n",
      "  warnings.warn(msg, FutureWarning)\n",
      "C:\\Users\\hp\\AppData\\Local\\Programs\\Python\\Python310\\lib\\site-packages\\seaborn\\distributions.py:2619: FutureWarning: `distplot` is a deprecated function and will be removed in a future version. Please adapt your code to use either `displot` (a figure-level function with similar flexibility) or `kdeplot` (an axes-level function for kernel density plots).\n",
      "  warnings.warn(msg, FutureWarning)\n"
     ]
    },
    {
     "data": {
      "text/plain": [
       "<matplotlib.legend.Legend at 0x2247f443eb0>"
      ]
     },
     "execution_count": 54,
     "metadata": {},
     "output_type": "execute_result"
    },
    {
     "data": {
      "image/png": "[encoded data removed]",
      "text/plain": [
       "<Figure size 432x288 with 1 Axes>"
      ]
     },
     "metadata": {
      "needs_background": "light"
     },
     "output_type": "display_data"
    }
   ],
   "source": [
    "#mengetahui hubungan distribusi harga rumah dengan view\n",
    "sns.distplot(x_train[x_train['view']==0]['price'],color='green',hist=False,label='view0')\n",
    "sns.distplot(x_train[x_train['view']==1]['price'],color='blue',hist=False,label='view1')\n",
    "sns.distplot(x_train[x_train['view']==2]['price'],color='orange',hist=False,label='view2')\n",
    "sns.distplot(x_train[x_train['view']==3]['price'],color='black',hist=False,label='view3')\n",
    "sns.distplot(x_train[x_train['view']==4]['price'],color='red',hist=False,label='view4')\n",
    "plt.title('Distribusi Harga Rumah vs View',fontsize=14)\n",
    "plt.legend()\n"
   ]
  },
  {
   "cell_type": "code",
   "execution_count": 55,
   "id": "2586cac4",
   "metadata": {},
   "outputs": [
    {
     "name": "stdout",
     "output_type": "stream",
     "text": [
      "Kesimpulan : nilai p_value 1.6271328203606032e-98 kurang dari alpha 0.05\n",
      "Ada perbedaan harga yang signifikan dari setiap view\n"
     ]
    }
   ],
   "source": [
    "#menguji secara statistik\n",
    "price_view0 = x_train[x_train['view']==0]['price']\n",
    "price_view1 = x_train[x_train['view']==1]['price']\n",
    "price_view2 = x_train[x_train['view']==2]['price']\n",
    "price_view3 = x_train[x_train['view']==3]['price']\n",
    "price_view4 = x_train[x_train['view']==4]['price']\n",
    "\n",
    "alpha = 0.05\n",
    "annova_test = stats.f_oneway(price_view0,price_view1,price_view2,price_view3,price_view4)\n",
    "\n",
    "if annova_test.pvalue < alpha :\n",
    "    print(f'Kesimpulan : nilai p_value {annova_test.pvalue} kurang dari alpha {alpha}')\n",
    "    print('Ada perbedaan harga yang signifikan dari setiap view')\n",
    "\n",
    "else :\n",
    "    print(f'Kesimpulan : nilai p_value {annova_test.pvalue} lebih dari alpha {alpha}')\n",
    "    print('Tidak ada perbedaan harga yang signifikan dari setiap view')"
   ]
  },
  {
   "cell_type": "markdown",
   "id": "b535365e",
   "metadata": {},
   "source": [
    "### Wrap Up - Kesimpulan Faktor External\n",
    "\n",
    "1. Lokasi rumah yang dekat danau/pantai/sungai akan meningkatkan harga rumah\n",
    "2. Semakin tinggi nilai view semakin tinggi harga rumah"
   ]
  },
  {
   "cell_type": "markdown",
   "id": "c96fe08b",
   "metadata": {},
   "source": [
    "\n"
   ]
  },
  {
   "cell_type": "markdown",
   "id": "056864ec",
   "metadata": {},
   "source": [
    "## 4.5. Kesimpulan EDA"
   ]
  },
  {
   "cell_type": "markdown",
   "id": "6bca7418",
   "metadata": {},
   "source": [
    "Dari Exploratory Data Analysis, kita dapat mengetahui faktor apa yang dapat meningkatkan harga rumah. Berikut list faktor tersebut :\n",
    "1. Luas bangunan yang luas\n",
    "2. Rumah dengan basement\n",
    "3. Luas kamar mandi paling optimal adalah 4.75 sqft \n",
    "4. Jumlah kamar paling optimal adalah 7\n",
    "5. Jumlah lantai paling optimal adalah 2.5\n",
    "6. Lokasi rumah yang dekat danau/pantai/sungai \n",
    "7. Nilai view yang tinggi"
   ]
  },
  {
   "cell_type": "markdown",
   "id": "276940ed",
   "metadata": {},
   "source": [
    "# 5. Feature Selection"
   ]
  },
  {
   "cell_type": "markdown",
   "id": "e460c2a5",
   "metadata": {},
   "source": [
    "## 5.1 Data Train"
   ]
  },
  {
   "cell_type": "code",
   "execution_count": 56,
   "id": "cce279a4",
   "metadata": {},
   "outputs": [
    {
     "name": "stderr",
     "output_type": "stream",
     "text": [
      "C:\\Users\\hp\\AppData\\Local\\Temp\\ipykernel_11236\\2503926145.py:6: DeprecationWarning: `np.bool` is a deprecated alias for the builtin `bool`. To silence this warning, use `bool` by itself. Doing this will not modify any behavior and is safe. If you specifically wanted the numpy scalar type, use `np.bool_` here.\n",
      "Deprecated in NumPy 1.20; for more details and guidance: https://numpy.org/devdocs/release/1.20.0-notes.html#deprecations\n",
      "  mask = np.triu(np.ones_like(x_train.corr(),dtype=np.bool))\n"
     ]
    },
    {
     "data": {
      "text/plain": [
       "<AxesSubplot:>"
      ]
     },
     "execution_count": 56,
     "metadata": {},
     "output_type": "execute_result"
    },
    {
     "data": {
      "image/png": "[encoded data removed]",
      "text/plain": [
       "<Figure size 800x800 with 2 Axes>"
      ]
     },
     "metadata": {
      "needs_background": "light"
     },
     "output_type": "display_data"
    }
   ],
   "source": [
    "#check correlation\n",
    "#mask --> agar yang muncul adalah segitiga correlation matrix\n",
    "#vmin=skala minimum, vmax= skala maksimum\n",
    "\n",
    "plt.figure(figsize=(8,8),dpi=100)\n",
    "mask = np.triu(np.ones_like(x_train.corr(),dtype=np.bool))\n",
    "sns.heatmap(x_train.corr(),mask=mask,vmin=-1,vmax=1,annot=True,cmap='inferno',fmt='.2g')"
   ]
  },
  {
   "cell_type": "code",
   "execution_count": 57,
   "id": "7abf8c82",
   "metadata": {},
   "outputs": [],
   "source": [
    "#membuat data set untuk machine learning\n",
    "x_train_linear = x_train.copy()\n",
    "x_test_linear = x_test.copy()"
   ]
  },
  {
   "cell_type": "code",
   "execution_count": 58,
   "id": "a5702046",
   "metadata": {},
   "outputs": [],
   "source": [
    "#membuang kolom yang korelasinya kecil\n",
    "#sold_date --> karna terjual ditahun yang sama  dan yr_built memiliki korelasi kecil\n",
    "\n",
    "x_train_linear = x_train_linear.drop(['sqft_lot','condition','yr_built','sqft_above','is_basement','sold_date','yr_renovated'],axis=1)"
   ]
  },
  {
   "cell_type": "markdown",
   "id": "592771f4",
   "metadata": {},
   "source": [
    "## 5.2 Data Test"
   ]
  },
  {
   "cell_type": "code",
   "execution_count": 59,
   "id": "1b6b7c95",
   "metadata": {},
   "outputs": [
    {
     "data": {
      "text/html": [
       "<div>\n",
       "<style scoped>\n",
       "    .dataframe tbody tr th:only-of-type {\n",
       "        vertical-align: middle;\n",
       "    }\n",
       "\n",
       "    .dataframe tbody tr th {\n",
       "        vertical-align: top;\n",
       "    }\n",
       "\n",
       "    .dataframe thead th {\n",
       "        text-align: right;\n",
       "    }\n",
       "</style>\n",
       "<table border=\"1\" class=\"dataframe\">\n",
       "  <thead>\n",
       "    <tr style=\"text-align: right;\">\n",
       "      <th></th>\n",
       "      <th>sold_date</th>\n",
       "      <th>bedrooms</th>\n",
       "      <th>bathrooms</th>\n",
       "      <th>sqft_living</th>\n",
       "      <th>sqft_lot</th>\n",
       "      <th>floors</th>\n",
       "      <th>waterfront</th>\n",
       "      <th>view</th>\n",
       "      <th>condition</th>\n",
       "      <th>sqft_above</th>\n",
       "      <th>sqft_basement</th>\n",
       "      <th>yr_built</th>\n",
       "      <th>yr_renovated</th>\n",
       "    </tr>\n",
       "  </thead>\n",
       "  <tbody>\n",
       "    <tr>\n",
       "      <th>3683</th>\n",
       "      <td>2014-06-30</td>\n",
       "      <td>3</td>\n",
       "      <td>2.50</td>\n",
       "      <td>1460</td>\n",
       "      <td>1613</td>\n",
       "      <td>2.0</td>\n",
       "      <td>0</td>\n",
       "      <td>0</td>\n",
       "      <td>3</td>\n",
       "      <td>1180</td>\n",
       "      <td>280</td>\n",
       "      <td>2007</td>\n",
       "      <td>0</td>\n",
       "    </tr>\n",
       "    <tr>\n",
       "      <th>4411</th>\n",
       "      <td>2014-05-22</td>\n",
       "      <td>5</td>\n",
       "      <td>2.25</td>\n",
       "      <td>2000</td>\n",
       "      <td>7900</td>\n",
       "      <td>1.0</td>\n",
       "      <td>0</td>\n",
       "      <td>0</td>\n",
       "      <td>4</td>\n",
       "      <td>1300</td>\n",
       "      <td>700</td>\n",
       "      <td>1986</td>\n",
       "      <td>0</td>\n",
       "    </tr>\n",
       "    <tr>\n",
       "      <th>2584</th>\n",
       "      <td>2014-06-16</td>\n",
       "      <td>3</td>\n",
       "      <td>3.25</td>\n",
       "      <td>2940</td>\n",
       "      <td>5432</td>\n",
       "      <td>3.0</td>\n",
       "      <td>0</td>\n",
       "      <td>3</td>\n",
       "      <td>4</td>\n",
       "      <td>2440</td>\n",
       "      <td>500</td>\n",
       "      <td>1978</td>\n",
       "      <td>2000</td>\n",
       "    </tr>\n",
       "    <tr>\n",
       "      <th>69</th>\n",
       "      <td>2014-05-04</td>\n",
       "      <td>3</td>\n",
       "      <td>2.50</td>\n",
       "      <td>2200</td>\n",
       "      <td>7350</td>\n",
       "      <td>1.0</td>\n",
       "      <td>0</td>\n",
       "      <td>0</td>\n",
       "      <td>5</td>\n",
       "      <td>1570</td>\n",
       "      <td>630</td>\n",
       "      <td>1988</td>\n",
       "      <td>0</td>\n",
       "    </tr>\n",
       "    <tr>\n",
       "      <th>1844</th>\n",
       "      <td>2014-06-04</td>\n",
       "      <td>3</td>\n",
       "      <td>2.50</td>\n",
       "      <td>1720</td>\n",
       "      <td>8755</td>\n",
       "      <td>1.0</td>\n",
       "      <td>0</td>\n",
       "      <td>0</td>\n",
       "      <td>3</td>\n",
       "      <td>1000</td>\n",
       "      <td>720</td>\n",
       "      <td>1983</td>\n",
       "      <td>2009</td>\n",
       "    </tr>\n",
       "  </tbody>\n",
       "</table>\n",
       "</div>"
      ],
      "text/plain": [
       "      sold_date  bedrooms  bathrooms  sqft_living  sqft_lot  floors  \\\n",
       "3683 2014-06-30         3       2.50         1460      1613     2.0   \n",
       "4411 2014-05-22         5       2.25         2000      7900     1.0   \n",
       "2584 2014-06-16         3       3.25         2940      5432     3.0   \n",
       "69   2014-05-04         3       2.50         2200      7350     1.0   \n",
       "1844 2014-06-04         3       2.50         1720      8755     1.0   \n",
       "\n",
       "      waterfront  view  condition  sqft_above  sqft_basement  yr_built  \\\n",
       "3683           0     0          3        1180            280      2007   \n",
       "4411           0     0          4        1300            700      1986   \n",
       "2584           0     3          4        2440            500      1978   \n",
       "69             0     0          5        1570            630      1988   \n",
       "1844           0     0          3        1000            720      1983   \n",
       "\n",
       "      yr_renovated  \n",
       "3683             0  \n",
       "4411             0  \n",
       "2584          2000  \n",
       "69               0  \n",
       "1844          2009  "
      ]
     },
     "execution_count": 59,
     "metadata": {},
     "output_type": "execute_result"
    }
   ],
   "source": [
    "x_test_linear.head()"
   ]
  },
  {
   "cell_type": "code",
   "execution_count": 60,
   "id": "7fe9bd90",
   "metadata": {},
   "outputs": [
    {
     "data": {
      "text/html": [
       "<div>\n",
       "<style scoped>\n",
       "    .dataframe tbody tr th:only-of-type {\n",
       "        vertical-align: middle;\n",
       "    }\n",
       "\n",
       "    .dataframe tbody tr th {\n",
       "        vertical-align: top;\n",
       "    }\n",
       "\n",
       "    .dataframe thead th {\n",
       "        text-align: right;\n",
       "    }\n",
       "</style>\n",
       "<table border=\"1\" class=\"dataframe\">\n",
       "  <thead>\n",
       "    <tr style=\"text-align: right;\">\n",
       "      <th></th>\n",
       "      <th>bedrooms</th>\n",
       "      <th>bathrooms</th>\n",
       "      <th>sqft_living</th>\n",
       "      <th>floors</th>\n",
       "      <th>waterfront</th>\n",
       "      <th>view</th>\n",
       "      <th>sqft_basement</th>\n",
       "    </tr>\n",
       "  </thead>\n",
       "  <tbody>\n",
       "    <tr>\n",
       "      <th>3683</th>\n",
       "      <td>3</td>\n",
       "      <td>2.50</td>\n",
       "      <td>1460</td>\n",
       "      <td>2.0</td>\n",
       "      <td>0</td>\n",
       "      <td>0</td>\n",
       "      <td>280</td>\n",
       "    </tr>\n",
       "    <tr>\n",
       "      <th>4411</th>\n",
       "      <td>5</td>\n",
       "      <td>2.25</td>\n",
       "      <td>2000</td>\n",
       "      <td>1.0</td>\n",
       "      <td>0</td>\n",
       "      <td>0</td>\n",
       "      <td>700</td>\n",
       "    </tr>\n",
       "    <tr>\n",
       "      <th>2584</th>\n",
       "      <td>3</td>\n",
       "      <td>3.25</td>\n",
       "      <td>2940</td>\n",
       "      <td>3.0</td>\n",
       "      <td>0</td>\n",
       "      <td>3</td>\n",
       "      <td>500</td>\n",
       "    </tr>\n",
       "    <tr>\n",
       "      <th>69</th>\n",
       "      <td>3</td>\n",
       "      <td>2.50</td>\n",
       "      <td>2200</td>\n",
       "      <td>1.0</td>\n",
       "      <td>0</td>\n",
       "      <td>0</td>\n",
       "      <td>630</td>\n",
       "    </tr>\n",
       "    <tr>\n",
       "      <th>1844</th>\n",
       "      <td>3</td>\n",
       "      <td>2.50</td>\n",
       "      <td>1720</td>\n",
       "      <td>1.0</td>\n",
       "      <td>0</td>\n",
       "      <td>0</td>\n",
       "      <td>720</td>\n",
       "    </tr>\n",
       "    <tr>\n",
       "      <th>...</th>\n",
       "      <td>...</td>\n",
       "      <td>...</td>\n",
       "      <td>...</td>\n",
       "      <td>...</td>\n",
       "      <td>...</td>\n",
       "      <td>...</td>\n",
       "      <td>...</td>\n",
       "    </tr>\n",
       "    <tr>\n",
       "      <th>3437</th>\n",
       "      <td>6</td>\n",
       "      <td>3.50</td>\n",
       "      <td>3600</td>\n",
       "      <td>2.0</td>\n",
       "      <td>0</td>\n",
       "      <td>0</td>\n",
       "      <td>860</td>\n",
       "    </tr>\n",
       "    <tr>\n",
       "      <th>3340</th>\n",
       "      <td>4</td>\n",
       "      <td>2.50</td>\n",
       "      <td>3920</td>\n",
       "      <td>2.0</td>\n",
       "      <td>0</td>\n",
       "      <td>0</td>\n",
       "      <td>0</td>\n",
       "    </tr>\n",
       "    <tr>\n",
       "      <th>1289</th>\n",
       "      <td>3</td>\n",
       "      <td>2.00</td>\n",
       "      <td>1490</td>\n",
       "      <td>1.5</td>\n",
       "      <td>0</td>\n",
       "      <td>0</td>\n",
       "      <td>0</td>\n",
       "    </tr>\n",
       "    <tr>\n",
       "      <th>449</th>\n",
       "      <td>3</td>\n",
       "      <td>1.75</td>\n",
       "      <td>1780</td>\n",
       "      <td>1.0</td>\n",
       "      <td>0</td>\n",
       "      <td>0</td>\n",
       "      <td>0</td>\n",
       "    </tr>\n",
       "    <tr>\n",
       "      <th>3774</th>\n",
       "      <td>4</td>\n",
       "      <td>3.00</td>\n",
       "      <td>2130</td>\n",
       "      <td>1.0</td>\n",
       "      <td>0</td>\n",
       "      <td>0</td>\n",
       "      <td>690</td>\n",
       "    </tr>\n",
       "  </tbody>\n",
       "</table>\n",
       "<p>1380 rows × 7 columns</p>\n",
       "</div>"
      ],
      "text/plain": [
       "      bedrooms  bathrooms  sqft_living  floors  waterfront  view  \\\n",
       "3683         3       2.50         1460     2.0           0     0   \n",
       "4411         5       2.25         2000     1.0           0     0   \n",
       "2584         3       3.25         2940     3.0           0     3   \n",
       "69           3       2.50         2200     1.0           0     0   \n",
       "1844         3       2.50         1720     1.0           0     0   \n",
       "...        ...        ...          ...     ...         ...   ...   \n",
       "3437         6       3.50         3600     2.0           0     0   \n",
       "3340         4       2.50         3920     2.0           0     0   \n",
       "1289         3       2.00         1490     1.5           0     0   \n",
       "449          3       1.75         1780     1.0           0     0   \n",
       "3774         4       3.00         2130     1.0           0     0   \n",
       "\n",
       "      sqft_basement  \n",
       "3683            280  \n",
       "4411            700  \n",
       "2584            500  \n",
       "69              630  \n",
       "1844            720  \n",
       "...             ...  \n",
       "3437            860  \n",
       "3340              0  \n",
       "1289              0  \n",
       "449               0  \n",
       "3774            690  \n",
       "\n",
       "[1380 rows x 7 columns]"
      ]
     },
     "execution_count": 60,
     "metadata": {},
     "output_type": "execute_result"
    }
   ],
   "source": [
    "#menyamakan feature x_test_linear dengan x_train_linear dengan cara drop/tambah feature\n",
    "\n",
    "\n",
    "x_test_linear = x_test_linear.drop(['sqft_lot','condition','yr_built','sqft_above','sold_date','yr_renovated'],axis=1)\n",
    "x_test_linear"
   ]
  },
  {
   "cell_type": "markdown",
   "id": "aeaec012",
   "metadata": {},
   "source": [
    "# 6. Transformasi Target dan Predictor"
   ]
  },
  {
   "cell_type": "markdown",
   "id": "b415c072",
   "metadata": {},
   "source": [
    "## 6.1 Transformasi Target - Train"
   ]
  },
  {
   "cell_type": "code",
   "execution_count": 61,
   "id": "467bc057",
   "metadata": {},
   "outputs": [
    {
     "data": {
      "text/plain": [
       "Text(0.5, 1.0, 'Distribusi Harga Sebelum Transformasi')"
      ]
     },
     "execution_count": 61,
     "metadata": {},
     "output_type": "execute_result"
    },
    {
     "data": {
      "image/png": "[encoded data removed]",
      "text/plain": [
       "<Figure size 360x360 with 1 Axes>"
      ]
     },
     "metadata": {
      "needs_background": "light"
     },
     "output_type": "display_data"
    }
   ],
   "source": [
    "#syarat model regresi linear :\n",
    "#berdistribusi normal\n",
    "#harus ada scaling \n",
    "\n",
    "#displot target sebelum transformasi\n",
    "sns.displot(x_train_linear['price'],color='red')\n",
    "plt.title('Distribusi Harga Sebelum Transformasi',fontsize=14)\n",
    "\n"
   ]
  },
  {
   "cell_type": "code",
   "execution_count": 62,
   "id": "043aa07a",
   "metadata": {},
   "outputs": [
    {
     "data": {
      "text/plain": [
       "Text(0.5, 1.0, 'Distribusi Harga Setelah Transformasi')"
      ]
     },
     "execution_count": 62,
     "metadata": {},
     "output_type": "execute_result"
    },
    {
     "data": {
      "image/png": "[encoded data removed]",
      "text/plain": [
       "<Figure size 360x360 with 1 Axes>"
      ]
     },
     "metadata": {
      "needs_background": "light"
     },
     "output_type": "display_data"
    }
   ],
   "source": [
    "#transformasi distribusi harga menggunakan np.log1p = log10 (logaritma)\n",
    "x_train_linear['price'] = np.log1p(x_train_linear['price'])\n",
    "\n",
    "#membuat displot harga yang sudah ditransformasi\n",
    "sns.displot((x_train_linear['price']),color='blue')\n",
    "plt.title('Distribusi Harga Setelah Transformasi',fontsize=14)"
   ]
  },
  {
   "cell_type": "markdown",
   "id": "8f984157",
   "metadata": {},
   "source": [
    "Target atau harga sudah memiliki distribusi normal"
   ]
  },
  {
   "cell_type": "code",
   "execution_count": 63,
   "id": "253b4a42",
   "metadata": {},
   "outputs": [],
   "source": [
    "#membuat y_train dari x_train_linear yang sudah ditransformasi\n",
    "\n",
    "y_train=x_train_linear['price'] \n",
    "\n",
    "#lalu drop price dari x_train_linear \n",
    "x_train_linear = x_train_linear.drop('price',axis=1)"
   ]
  },
  {
   "cell_type": "code",
   "execution_count": 64,
   "id": "0cd3de09",
   "metadata": {},
   "outputs": [
    {
     "data": {
      "text/html": [
       "<div>\n",
       "<style scoped>\n",
       "    .dataframe tbody tr th:only-of-type {\n",
       "        vertical-align: middle;\n",
       "    }\n",
       "\n",
       "    .dataframe tbody tr th {\n",
       "        vertical-align: top;\n",
       "    }\n",
       "\n",
       "    .dataframe thead th {\n",
       "        text-align: right;\n",
       "    }\n",
       "</style>\n",
       "<table border=\"1\" class=\"dataframe\">\n",
       "  <thead>\n",
       "    <tr style=\"text-align: right;\">\n",
       "      <th></th>\n",
       "      <th>bedrooms</th>\n",
       "      <th>bathrooms</th>\n",
       "      <th>sqft_living</th>\n",
       "      <th>floors</th>\n",
       "      <th>waterfront</th>\n",
       "      <th>view</th>\n",
       "      <th>sqft_basement</th>\n",
       "    </tr>\n",
       "  </thead>\n",
       "  <tbody>\n",
       "    <tr>\n",
       "      <th>2194</th>\n",
       "      <td>6</td>\n",
       "      <td>1.50</td>\n",
       "      <td>1930</td>\n",
       "      <td>1.0</td>\n",
       "      <td>0</td>\n",
       "      <td>0</td>\n",
       "      <td>900</td>\n",
       "    </tr>\n",
       "    <tr>\n",
       "      <th>958</th>\n",
       "      <td>2</td>\n",
       "      <td>2.25</td>\n",
       "      <td>1230</td>\n",
       "      <td>2.0</td>\n",
       "      <td>0</td>\n",
       "      <td>0</td>\n",
       "      <td>270</td>\n",
       "    </tr>\n",
       "    <tr>\n",
       "      <th>1533</th>\n",
       "      <td>3</td>\n",
       "      <td>1.50</td>\n",
       "      <td>1470</td>\n",
       "      <td>1.0</td>\n",
       "      <td>0</td>\n",
       "      <td>0</td>\n",
       "      <td>0</td>\n",
       "    </tr>\n",
       "    <tr>\n",
       "      <th>654</th>\n",
       "      <td>4</td>\n",
       "      <td>2.50</td>\n",
       "      <td>2700</td>\n",
       "      <td>2.0</td>\n",
       "      <td>0</td>\n",
       "      <td>0</td>\n",
       "      <td>0</td>\n",
       "    </tr>\n",
       "    <tr>\n",
       "      <th>1497</th>\n",
       "      <td>2</td>\n",
       "      <td>1.00</td>\n",
       "      <td>740</td>\n",
       "      <td>1.0</td>\n",
       "      <td>0</td>\n",
       "      <td>0</td>\n",
       "      <td>0</td>\n",
       "    </tr>\n",
       "  </tbody>\n",
       "</table>\n",
       "</div>"
      ],
      "text/plain": [
       "      bedrooms  bathrooms  sqft_living  floors  waterfront  view  \\\n",
       "2194         6       1.50         1930     1.0           0     0   \n",
       "958          2       2.25         1230     2.0           0     0   \n",
       "1533         3       1.50         1470     1.0           0     0   \n",
       "654          4       2.50         2700     2.0           0     0   \n",
       "1497         2       1.00          740     1.0           0     0   \n",
       "\n",
       "      sqft_basement  \n",
       "2194            900  \n",
       "958             270  \n",
       "1533              0  \n",
       "654               0  \n",
       "1497              0  "
      ]
     },
     "execution_count": 64,
     "metadata": {},
     "output_type": "execute_result"
    }
   ],
   "source": [
    "x_train_linear.head()"
   ]
  },
  {
   "cell_type": "markdown",
   "id": "6360a1f7",
   "metadata": {},
   "source": [
    "## 6.2 Transformasi Predictor - Train"
   ]
  },
  {
   "cell_type": "code",
   "execution_count": 65,
   "id": "1bde14b1",
   "metadata": {},
   "outputs": [
    {
     "data": {
      "image/png": "[encoded data removed]",
      "text/plain": [
       "<Figure size 432x288 with 9 Axes>"
      ]
     },
     "metadata": {
      "needs_background": "light"
     },
     "output_type": "display_data"
    }
   ],
   "source": [
    "#cek histogram semua predictor\n",
    "x_train_linear.hist()\n",
    "plt.tight_layout()\n",
    "plt.show()"
   ]
  },
  {
   "cell_type": "code",
   "execution_count": 66,
   "id": "5141274e",
   "metadata": {},
   "outputs": [
    {
     "data": {
      "text/plain": [
       "Text(0.5, 1.0, 'Distribusi Luas Bangunan Sebelum Transformasi')"
      ]
     },
     "execution_count": 66,
     "metadata": {},
     "output_type": "execute_result"
    },
    {
     "data": {
      "image/png": "[encoded data removed]",
      "text/plain": [
       "<Figure size 360x360 with 1 Axes>"
      ]
     },
     "metadata": {
      "needs_background": "light"
     },
     "output_type": "display_data"
    }
   ],
   "source": [
    "#transformasi prediktor yang memiliki tipe data kontinue dan tidak berdistribusi normal --> sqft_living\n",
    "\n",
    "#historgam sqft_living sebelum transformasi\n",
    "sns.displot(x_train_linear['sqft_living'],color='red')\n",
    "plt.title('Distribusi Luas Bangunan Sebelum Transformasi',fontsize=14)"
   ]
  },
  {
   "cell_type": "code",
   "execution_count": 67,
   "id": "d7af31e1",
   "metadata": {},
   "outputs": [],
   "source": [
    "#transformasi distribusi harga menggunakan np.sqrt (akar)\n",
    "x_train_linear['sqft_living'] = np.sqrt(x_train_linear['sqft_living'])"
   ]
  },
  {
   "cell_type": "code",
   "execution_count": 68,
   "id": "266c78e8",
   "metadata": {},
   "outputs": [
    {
     "data": {
      "text/plain": [
       "Text(0.5, 1.0, 'Distribusi Luas Bangunan Setelah Transformasi')"
      ]
     },
     "execution_count": 68,
     "metadata": {},
     "output_type": "execute_result"
    },
    {
     "data": {
      "image/png": "[encoded data removed]",
      "text/plain": [
       "<Figure size 360x360 with 1 Axes>"
      ]
     },
     "metadata": {
      "needs_background": "light"
     },
     "output_type": "display_data"
    }
   ],
   "source": [
    "sns.displot((x_train_linear['sqft_living']),color='blue')\n",
    "plt.title('Distribusi Luas Bangunan Setelah Transformasi',fontsize=14)"
   ]
  },
  {
   "cell_type": "markdown",
   "id": "ac054e44",
   "metadata": {},
   "source": [
    "## 6.3 Transformasi Target dan Predictor - Test"
   ]
  },
  {
   "cell_type": "code",
   "execution_count": 69,
   "id": "092e3ba0",
   "metadata": {},
   "outputs": [
    {
     "name": "stderr",
     "output_type": "stream",
     "text": [
      "C:\\Users\\hp\\AppData\\Local\\Temp\\ipykernel_11236\\105199924.py:5: SettingWithCopyWarning: \n",
      "A value is trying to be set on a copy of a slice from a DataFrame.\n",
      "Try using .loc[row_indexer,col_indexer] = value instead\n",
      "\n",
      "See the caveats in the documentation: https://pandas.pydata.org/pandas-docs/stable/user_guide/indexing.html#returning-a-view-versus-a-copy\n",
      "  x_test_linear['price'] = np.log1p(x_test_linear['price'])\n"
     ]
    }
   ],
   "source": [
    "x_test_linear['price']=y_test\n",
    "\n",
    "#filter dan transformasi price\n",
    "x_test_linear = x_test_linear[x_test_linear['price']>0]\n",
    "x_test_linear['price'] = np.log1p(x_test_linear['price'])\n",
    "\n",
    "#filter bathrooms <6 (seperti data train)\n",
    "x_test_linear = x_test_linear[x_test_linear['bathrooms']<6]\n",
    "\n",
    "#filter bedroom <9 (seperti data train)\n",
    "x_test_linear = x_test_linear[(x_test_linear['bedrooms']>0) & (x_test_linear['bedrooms']<9)]\n",
    "\n",
    "#transformasi sqft_living\n",
    "x_test_linear['sqft_living'] = np.sqrt(x_test_linear['sqft_living'])"
   ]
  },
  {
   "cell_type": "code",
   "execution_count": 70,
   "id": "8b23c71c",
   "metadata": {},
   "outputs": [],
   "source": [
    "#membuat y_test dari x_test_linear yang sudah difilter\n",
    "y_test=x_test_linear['price']\n",
    "\n",
    "#lalu drop 'price' dari x_test_linear\n",
    "x_test_linear = x_test_linear.drop(['price'],axis=1)"
   ]
  },
  {
   "cell_type": "code",
   "execution_count": 71,
   "id": "bf5f18c3",
   "metadata": {},
   "outputs": [
    {
     "name": "stdout",
     "output_type": "stream",
     "text": [
      "<class 'pandas.core.frame.DataFrame'>\n",
      "Int64Index: 3180 entries, 2194 to 860\n",
      "Data columns (total 7 columns):\n",
      " #   Column         Non-Null Count  Dtype  \n",
      "---  ------         --------------  -----  \n",
      " 0   bedrooms       3180 non-null   int64  \n",
      " 1   bathrooms      3180 non-null   float64\n",
      " 2   sqft_living    3180 non-null   float64\n",
      " 3   floors         3180 non-null   float64\n",
      " 4   waterfront     3180 non-null   int64  \n",
      " 5   view           3180 non-null   int64  \n",
      " 6   sqft_basement  3180 non-null   int64  \n",
      "dtypes: float64(3), int64(4)\n",
      "memory usage: 198.8 KB\n"
     ]
    }
   ],
   "source": [
    "x_train_linear.info()"
   ]
  },
  {
   "cell_type": "code",
   "execution_count": 72,
   "id": "2ca33508",
   "metadata": {
    "scrolled": true
   },
   "outputs": [
    {
     "name": "stdout",
     "output_type": "stream",
     "text": [
      "<class 'pandas.core.frame.DataFrame'>\n",
      "Int64Index: 1364 entries, 3683 to 3774\n",
      "Data columns (total 7 columns):\n",
      " #   Column         Non-Null Count  Dtype  \n",
      "---  ------         --------------  -----  \n",
      " 0   bedrooms       1364 non-null   int64  \n",
      " 1   bathrooms      1364 non-null   float64\n",
      " 2   sqft_living    1364 non-null   float64\n",
      " 3   floors         1364 non-null   float64\n",
      " 4   waterfront     1364 non-null   int64  \n",
      " 5   view           1364 non-null   int64  \n",
      " 6   sqft_basement  1364 non-null   int64  \n",
      "dtypes: float64(3), int64(4)\n",
      "memory usage: 85.2 KB\n"
     ]
    }
   ],
   "source": [
    "x_test_linear.info()"
   ]
  },
  {
   "cell_type": "markdown",
   "id": "590b12e9",
   "metadata": {},
   "source": [
    "#### Summary Data - 6"
   ]
  },
  {
   "cell_type": "markdown",
   "id": "4ed090d6",
   "metadata": {},
   "source": [
    "x_train_linear dan x_test_linear memiliki jumlah feature/kolom yang sama, yaitu 7 kolom.\n",
    "jumlah baris x_train_linear 3180 (70% dari data frame)\n",
    "jumlah baris x_test_linear 1364 (30% dari data frame)"
   ]
  },
  {
   "cell_type": "markdown",
   "id": "587dbac7",
   "metadata": {},
   "source": [
    "# 7. Feature Scalling"
   ]
  },
  {
   "cell_type": "code",
   "execution_count": 73,
   "id": "fb84acca",
   "metadata": {},
   "outputs": [],
   "source": [
    "#membuat data dr tiap feature memiliki skala yg sama\n",
    "from sklearn.preprocessing import StandardScaler\n",
    "scaler = StandardScaler()"
   ]
  },
  {
   "cell_type": "markdown",
   "id": "f815a306",
   "metadata": {},
   "source": [
    "## 7.1 Data Train"
   ]
  },
  {
   "cell_type": "code",
   "execution_count": 74,
   "id": "8587fe3e",
   "metadata": {},
   "outputs": [
    {
     "data": {
      "text/html": [
       "<div>\n",
       "<style scoped>\n",
       "    .dataframe tbody tr th:only-of-type {\n",
       "        vertical-align: middle;\n",
       "    }\n",
       "\n",
       "    .dataframe tbody tr th {\n",
       "        vertical-align: top;\n",
       "    }\n",
       "\n",
       "    .dataframe thead th {\n",
       "        text-align: right;\n",
       "    }\n",
       "</style>\n",
       "<table border=\"1\" class=\"dataframe\">\n",
       "  <thead>\n",
       "    <tr style=\"text-align: right;\">\n",
       "      <th></th>\n",
       "      <th>bedrooms</th>\n",
       "      <th>bathrooms</th>\n",
       "      <th>sqft_living</th>\n",
       "      <th>floors</th>\n",
       "      <th>waterfront</th>\n",
       "      <th>view</th>\n",
       "      <th>sqft_basement</th>\n",
       "    </tr>\n",
       "  </thead>\n",
       "  <tbody>\n",
       "    <tr>\n",
       "      <th>2194</th>\n",
       "      <td>6</td>\n",
       "      <td>1.50</td>\n",
       "      <td>43.931765</td>\n",
       "      <td>1.0</td>\n",
       "      <td>0</td>\n",
       "      <td>0</td>\n",
       "      <td>900</td>\n",
       "    </tr>\n",
       "    <tr>\n",
       "      <th>958</th>\n",
       "      <td>2</td>\n",
       "      <td>2.25</td>\n",
       "      <td>35.071356</td>\n",
       "      <td>2.0</td>\n",
       "      <td>0</td>\n",
       "      <td>0</td>\n",
       "      <td>270</td>\n",
       "    </tr>\n",
       "    <tr>\n",
       "      <th>1533</th>\n",
       "      <td>3</td>\n",
       "      <td>1.50</td>\n",
       "      <td>38.340579</td>\n",
       "      <td>1.0</td>\n",
       "      <td>0</td>\n",
       "      <td>0</td>\n",
       "      <td>0</td>\n",
       "    </tr>\n",
       "    <tr>\n",
       "      <th>654</th>\n",
       "      <td>4</td>\n",
       "      <td>2.50</td>\n",
       "      <td>51.961524</td>\n",
       "      <td>2.0</td>\n",
       "      <td>0</td>\n",
       "      <td>0</td>\n",
       "      <td>0</td>\n",
       "    </tr>\n",
       "    <tr>\n",
       "      <th>1497</th>\n",
       "      <td>2</td>\n",
       "      <td>1.00</td>\n",
       "      <td>27.202941</td>\n",
       "      <td>1.0</td>\n",
       "      <td>0</td>\n",
       "      <td>0</td>\n",
       "      <td>0</td>\n",
       "    </tr>\n",
       "  </tbody>\n",
       "</table>\n",
       "</div>"
      ],
      "text/plain": [
       "      bedrooms  bathrooms  sqft_living  floors  waterfront  view  \\\n",
       "2194         6       1.50    43.931765     1.0           0     0   \n",
       "958          2       2.25    35.071356     2.0           0     0   \n",
       "1533         3       1.50    38.340579     1.0           0     0   \n",
       "654          4       2.50    51.961524     2.0           0     0   \n",
       "1497         2       1.00    27.202941     1.0           0     0   \n",
       "\n",
       "      sqft_basement  \n",
       "2194            900  \n",
       "958             270  \n",
       "1533              0  \n",
       "654               0  \n",
       "1497              0  "
      ]
     },
     "execution_count": 74,
     "metadata": {},
     "output_type": "execute_result"
    }
   ],
   "source": [
    "#data x_train_linear sebelum discalling\n",
    "x_train_linear.head()"
   ]
  },
  {
   "cell_type": "code",
   "execution_count": 75,
   "id": "d8278c93",
   "metadata": {},
   "outputs": [
    {
     "data": {
      "text/plain": [
       "Index(['bedrooms', 'bathrooms', 'sqft_living', 'floors', 'waterfront', 'view',\n",
       "       'sqft_basement'],\n",
       "      dtype='object')"
      ]
     },
     "execution_count": 75,
     "metadata": {},
     "output_type": "execute_result"
    }
   ],
   "source": [
    "#membuat variabel columns\n",
    "columns = x_train_linear.columns\n",
    "columns"
   ]
  },
  {
   "cell_type": "code",
   "execution_count": 76,
   "id": "ac9b9495",
   "metadata": {},
   "outputs": [],
   "source": [
    "#process scalling --> mempelajari (fit) kolom/feature yang didefinisikan dalam variabel coloumns \n",
    "x_train_linear[columns] = scaler.fit_transform(x_train_linear[columns])"
   ]
  },
  {
   "cell_type": "code",
   "execution_count": 77,
   "id": "a6164691",
   "metadata": {
    "scrolled": true
   },
   "outputs": [
    {
     "data": {
      "text/html": [
       "<div>\n",
       "<style scoped>\n",
       "    .dataframe tbody tr th:only-of-type {\n",
       "        vertical-align: middle;\n",
       "    }\n",
       "\n",
       "    .dataframe tbody tr th {\n",
       "        vertical-align: top;\n",
       "    }\n",
       "\n",
       "    .dataframe thead th {\n",
       "        text-align: right;\n",
       "    }\n",
       "</style>\n",
       "<table border=\"1\" class=\"dataframe\">\n",
       "  <thead>\n",
       "    <tr style=\"text-align: right;\">\n",
       "      <th></th>\n",
       "      <th>bedrooms</th>\n",
       "      <th>bathrooms</th>\n",
       "      <th>sqft_living</th>\n",
       "      <th>floors</th>\n",
       "      <th>waterfront</th>\n",
       "      <th>view</th>\n",
       "      <th>sqft_basement</th>\n",
       "    </tr>\n",
       "  </thead>\n",
       "  <tbody>\n",
       "    <tr>\n",
       "      <th>2194</th>\n",
       "      <td>2.916451</td>\n",
       "      <td>-0.845825</td>\n",
       "      <td>-0.117575</td>\n",
       "      <td>-0.948735</td>\n",
       "      <td>-0.077529</td>\n",
       "      <td>-0.303609</td>\n",
       "      <td>1.281200</td>\n",
       "    </tr>\n",
       "    <tr>\n",
       "      <th>958</th>\n",
       "      <td>-1.548257</td>\n",
       "      <td>0.142196</td>\n",
       "      <td>-1.036299</td>\n",
       "      <td>0.922839</td>\n",
       "      <td>-0.077529</td>\n",
       "      <td>-0.303609</td>\n",
       "      <td>-0.098336</td>\n",
       "    </tr>\n",
       "    <tr>\n",
       "      <th>1533</th>\n",
       "      <td>-0.432080</td>\n",
       "      <td>-0.845825</td>\n",
       "      <td>-0.697318</td>\n",
       "      <td>-0.948735</td>\n",
       "      <td>-0.077529</td>\n",
       "      <td>-0.303609</td>\n",
       "      <td>-0.689566</td>\n",
       "    </tr>\n",
       "    <tr>\n",
       "      <th>654</th>\n",
       "      <td>0.684097</td>\n",
       "      <td>0.471537</td>\n",
       "      <td>0.715020</td>\n",
       "      <td>0.922839</td>\n",
       "      <td>-0.077529</td>\n",
       "      <td>-0.303609</td>\n",
       "      <td>-0.689566</td>\n",
       "    </tr>\n",
       "    <tr>\n",
       "      <th>1497</th>\n",
       "      <td>-1.548257</td>\n",
       "      <td>-1.504506</td>\n",
       "      <td>-1.852165</td>\n",
       "      <td>-0.948735</td>\n",
       "      <td>-0.077529</td>\n",
       "      <td>-0.303609</td>\n",
       "      <td>-0.689566</td>\n",
       "    </tr>\n",
       "  </tbody>\n",
       "</table>\n",
       "</div>"
      ],
      "text/plain": [
       "      bedrooms  bathrooms  sqft_living    floors  waterfront      view  \\\n",
       "2194  2.916451  -0.845825    -0.117575 -0.948735   -0.077529 -0.303609   \n",
       "958  -1.548257   0.142196    -1.036299  0.922839   -0.077529 -0.303609   \n",
       "1533 -0.432080  -0.845825    -0.697318 -0.948735   -0.077529 -0.303609   \n",
       "654   0.684097   0.471537     0.715020  0.922839   -0.077529 -0.303609   \n",
       "1497 -1.548257  -1.504506    -1.852165 -0.948735   -0.077529 -0.303609   \n",
       "\n",
       "      sqft_basement  \n",
       "2194       1.281200  \n",
       "958       -0.098336  \n",
       "1533      -0.689566  \n",
       "654       -0.689566  \n",
       "1497      -0.689566  "
      ]
     },
     "execution_count": 77,
     "metadata": {},
     "output_type": "execute_result"
    }
   ],
   "source": [
    "#data x_train_linear sesudah discalling\n",
    "x_train_linear.head()"
   ]
  },
  {
   "cell_type": "markdown",
   "id": "f96464de",
   "metadata": {},
   "source": [
    "setelah proses feature scalling, data train memiliki range skala yang sama"
   ]
  },
  {
   "cell_type": "markdown",
   "id": "74e66dde",
   "metadata": {},
   "source": [
    "## 7.2 Data Test"
   ]
  },
  {
   "cell_type": "code",
   "execution_count": 78,
   "id": "0c7c0922",
   "metadata": {},
   "outputs": [
    {
     "data": {
      "text/html": [
       "<div>\n",
       "<style scoped>\n",
       "    .dataframe tbody tr th:only-of-type {\n",
       "        vertical-align: middle;\n",
       "    }\n",
       "\n",
       "    .dataframe tbody tr th {\n",
       "        vertical-align: top;\n",
       "    }\n",
       "\n",
       "    .dataframe thead th {\n",
       "        text-align: right;\n",
       "    }\n",
       "</style>\n",
       "<table border=\"1\" class=\"dataframe\">\n",
       "  <thead>\n",
       "    <tr style=\"text-align: right;\">\n",
       "      <th></th>\n",
       "      <th>bedrooms</th>\n",
       "      <th>bathrooms</th>\n",
       "      <th>sqft_living</th>\n",
       "      <th>floors</th>\n",
       "      <th>waterfront</th>\n",
       "      <th>view</th>\n",
       "      <th>sqft_basement</th>\n",
       "    </tr>\n",
       "  </thead>\n",
       "  <tbody>\n",
       "    <tr>\n",
       "      <th>3683</th>\n",
       "      <td>3</td>\n",
       "      <td>2.50</td>\n",
       "      <td>38.209946</td>\n",
       "      <td>2.0</td>\n",
       "      <td>0</td>\n",
       "      <td>0</td>\n",
       "      <td>280</td>\n",
       "    </tr>\n",
       "    <tr>\n",
       "      <th>2584</th>\n",
       "      <td>3</td>\n",
       "      <td>3.25</td>\n",
       "      <td>54.221767</td>\n",
       "      <td>3.0</td>\n",
       "      <td>0</td>\n",
       "      <td>3</td>\n",
       "      <td>500</td>\n",
       "    </tr>\n",
       "    <tr>\n",
       "      <th>69</th>\n",
       "      <td>3</td>\n",
       "      <td>2.50</td>\n",
       "      <td>46.904158</td>\n",
       "      <td>1.0</td>\n",
       "      <td>0</td>\n",
       "      <td>0</td>\n",
       "      <td>630</td>\n",
       "    </tr>\n",
       "    <tr>\n",
       "      <th>1844</th>\n",
       "      <td>3</td>\n",
       "      <td>2.50</td>\n",
       "      <td>41.472883</td>\n",
       "      <td>1.0</td>\n",
       "      <td>0</td>\n",
       "      <td>0</td>\n",
       "      <td>720</td>\n",
       "    </tr>\n",
       "    <tr>\n",
       "      <th>33</th>\n",
       "      <td>4</td>\n",
       "      <td>2.50</td>\n",
       "      <td>53.103672</td>\n",
       "      <td>2.0</td>\n",
       "      <td>0</td>\n",
       "      <td>0</td>\n",
       "      <td>0</td>\n",
       "    </tr>\n",
       "  </tbody>\n",
       "</table>\n",
       "</div>"
      ],
      "text/plain": [
       "      bedrooms  bathrooms  sqft_living  floors  waterfront  view  \\\n",
       "3683         3       2.50    38.209946     2.0           0     0   \n",
       "2584         3       3.25    54.221767     3.0           0     3   \n",
       "69           3       2.50    46.904158     1.0           0     0   \n",
       "1844         3       2.50    41.472883     1.0           0     0   \n",
       "33           4       2.50    53.103672     2.0           0     0   \n",
       "\n",
       "      sqft_basement  \n",
       "3683            280  \n",
       "2584            500  \n",
       "69              630  \n",
       "1844            720  \n",
       "33                0  "
      ]
     },
     "execution_count": 78,
     "metadata": {},
     "output_type": "execute_result"
    }
   ],
   "source": [
    "#x_test_linear sebelum proses scalling\n",
    "x_test_linear.head()"
   ]
  },
  {
   "cell_type": "code",
   "execution_count": 79,
   "id": "34ce580c",
   "metadata": {},
   "outputs": [],
   "source": [
    "#process scalling --> mempelajari (fit) kolom/feature  yang didefinisikan dalam variabel coloumns \n",
    "x_test_linear[columns] = scaler.fit_transform(x_test_linear[columns])"
   ]
  },
  {
   "cell_type": "code",
   "execution_count": 80,
   "id": "75984c16",
   "metadata": {},
   "outputs": [
    {
     "data": {
      "text/html": [
       "<div>\n",
       "<style scoped>\n",
       "    .dataframe tbody tr th:only-of-type {\n",
       "        vertical-align: middle;\n",
       "    }\n",
       "\n",
       "    .dataframe tbody tr th {\n",
       "        vertical-align: top;\n",
       "    }\n",
       "\n",
       "    .dataframe thead th {\n",
       "        text-align: right;\n",
       "    }\n",
       "</style>\n",
       "<table border=\"1\" class=\"dataframe\">\n",
       "  <thead>\n",
       "    <tr style=\"text-align: right;\">\n",
       "      <th></th>\n",
       "      <th>bedrooms</th>\n",
       "      <th>bathrooms</th>\n",
       "      <th>sqft_living</th>\n",
       "      <th>floors</th>\n",
       "      <th>waterfront</th>\n",
       "      <th>view</th>\n",
       "      <th>sqft_basement</th>\n",
       "    </tr>\n",
       "  </thead>\n",
       "  <tbody>\n",
       "    <tr>\n",
       "      <th>3683</th>\n",
       "      <td>-0.454092</td>\n",
       "      <td>0.426312</td>\n",
       "      <td>-0.726446</td>\n",
       "      <td>0.881635</td>\n",
       "      <td>-0.085939</td>\n",
       "      <td>-0.309884</td>\n",
       "      <td>-0.023982</td>\n",
       "    </tr>\n",
       "    <tr>\n",
       "      <th>2584</th>\n",
       "      <td>-0.454092</td>\n",
       "      <td>1.403606</td>\n",
       "      <td>0.958017</td>\n",
       "      <td>2.720398</td>\n",
       "      <td>-0.085939</td>\n",
       "      <td>3.615952</td>\n",
       "      <td>0.474433</td>\n",
       "    </tr>\n",
       "    <tr>\n",
       "      <th>69</th>\n",
       "      <td>-0.454092</td>\n",
       "      <td>0.426312</td>\n",
       "      <td>0.188195</td>\n",
       "      <td>-0.957127</td>\n",
       "      <td>-0.085939</td>\n",
       "      <td>-0.309884</td>\n",
       "      <td>0.768950</td>\n",
       "    </tr>\n",
       "    <tr>\n",
       "      <th>1844</th>\n",
       "      <td>-0.454092</td>\n",
       "      <td>0.426312</td>\n",
       "      <td>-0.383181</td>\n",
       "      <td>-0.957127</td>\n",
       "      <td>-0.085939</td>\n",
       "      <td>-0.309884</td>\n",
       "      <td>0.972847</td>\n",
       "    </tr>\n",
       "    <tr>\n",
       "      <th>33</th>\n",
       "      <td>0.661911</td>\n",
       "      <td>0.426312</td>\n",
       "      <td>0.840392</td>\n",
       "      <td>0.881635</td>\n",
       "      <td>-0.085939</td>\n",
       "      <td>-0.309884</td>\n",
       "      <td>-0.658329</td>\n",
       "    </tr>\n",
       "  </tbody>\n",
       "</table>\n",
       "</div>"
      ],
      "text/plain": [
       "      bedrooms  bathrooms  sqft_living    floors  waterfront      view  \\\n",
       "3683 -0.454092   0.426312    -0.726446  0.881635   -0.085939 -0.309884   \n",
       "2584 -0.454092   1.403606     0.958017  2.720398   -0.085939  3.615952   \n",
       "69   -0.454092   0.426312     0.188195 -0.957127   -0.085939 -0.309884   \n",
       "1844 -0.454092   0.426312    -0.383181 -0.957127   -0.085939 -0.309884   \n",
       "33    0.661911   0.426312     0.840392  0.881635   -0.085939 -0.309884   \n",
       "\n",
       "      sqft_basement  \n",
       "3683      -0.023982  \n",
       "2584       0.474433  \n",
       "69         0.768950  \n",
       "1844       0.972847  \n",
       "33        -0.658329  "
      ]
     },
     "execution_count": 80,
     "metadata": {},
     "output_type": "execute_result"
    }
   ],
   "source": [
    "#x_test_linear setelah process scalling\n",
    "x_test_linear.head()"
   ]
  },
  {
   "cell_type": "markdown",
   "id": "e1d8debd",
   "metadata": {},
   "source": [
    "setelah proses feature scalling, data memiliki range skala yang sama"
   ]
  },
  {
   "cell_type": "markdown",
   "id": "7c6dbd83",
   "metadata": {},
   "source": [
    "# 8. Model & Prediksi Target"
   ]
  },
  {
   "cell_type": "markdown",
   "id": "6ddb787b",
   "metadata": {},
   "source": [
    "Pada case kali ini, kita akan menggunakan machine learning statsmodel OLS karna target adalah data kontinue dan sudah ditransformasi menjadi distribusi normal"
   ]
  },
  {
   "cell_type": "code",
   "execution_count": 81,
   "id": "c29fdd80",
   "metadata": {},
   "outputs": [],
   "source": [
    "#Statsmodel\n",
    "\n",
    "import statsmodels\n",
    "import statsmodels.api as sm"
   ]
  },
  {
   "cell_type": "markdown",
   "id": "63d85213",
   "metadata": {},
   "source": [
    "## 8.1 Fitting Data Train"
   ]
  },
  {
   "cell_type": "code",
   "execution_count": 82,
   "id": "5d92e11c",
   "metadata": {},
   "outputs": [],
   "source": [
    "#mencari intercepts/konstanta (y = mx+c)\n",
    "konstanta = sm.add_constant(x_train_linear)"
   ]
  },
  {
   "cell_type": "code",
   "execution_count": 83,
   "id": "36e65aa9",
   "metadata": {},
   "outputs": [],
   "source": [
    "#Modelling dengan statsmodels\n",
    "simplemodel = sm.OLS(y_train,konstanta)\n",
    "results = simplemodel.fit()"
   ]
  },
  {
   "cell_type": "code",
   "execution_count": 84,
   "id": "79621e0c",
   "metadata": {},
   "outputs": [
    {
     "name": "stdout",
     "output_type": "stream",
     "text": [
      "                            OLS Regression Results                            \n",
      "==============================================================================\n",
      "Dep. Variable:                  price   R-squared:                       0.512\n",
      "Model:                            OLS   Adj. R-squared:                  0.511\n",
      "Method:                 Least Squares   F-statistic:                     475.5\n",
      "Date:                Wed, 24 Aug 2022   Prob (F-statistic):               0.00\n",
      "Time:                        12:12:46   Log-Likelihood:                -1394.7\n",
      "No. Observations:                3180   AIC:                             2805.\n",
      "Df Residuals:                    3172   BIC:                             2854.\n",
      "Df Model:                           7                                         \n",
      "Covariance Type:            nonrobust                                         \n",
      "=================================================================================\n",
      "                    coef    std err          t      P>|t|      [0.025      0.975]\n",
      "---------------------------------------------------------------------------------\n",
      "const            13.0638      0.007   1961.102      0.000      13.051      13.077\n",
      "bedrooms         -0.0586      0.009     -6.661      0.000      -0.076      -0.041\n",
      "bathrooms         0.0254      0.011      2.235      0.025       0.003       0.048\n",
      "sqft_living       0.3406      0.012     27.842      0.000       0.317       0.365\n",
      "floors            0.0519      0.009      5.776      0.000       0.034       0.069\n",
      "waterfront        0.0176      0.007      2.483      0.013       0.004       0.031\n",
      "view              0.0661      0.007      8.827      0.000       0.051       0.081\n",
      "sqft_basement     0.0224      0.009      2.540      0.011       0.005       0.040\n",
      "==============================================================================\n",
      "Omnibus:                      291.349   Durbin-Watson:                   1.989\n",
      "Prob(Omnibus):                  0.000   Jarque-Bera (JB):             1060.269\n",
      "Skew:                          -0.414   Prob(JB):                    5.83e-231\n",
      "Kurtosis:                       5.705   Cond. No.                         3.71\n",
      "==============================================================================\n",
      "\n",
      "Notes:\n",
      "[1] Standard Errors assume that the covariance matrix of the errors is correctly specified.\n"
     ]
    }
   ],
   "source": [
    "# Print results\n",
    "print(results.summary())"
   ]
  },
  {
   "cell_type": "code",
   "execution_count": 85,
   "id": "0f52d8fb",
   "metadata": {},
   "outputs": [
    {
     "name": "stdout",
     "output_type": "stream",
     "text": [
      "coefficient of determination: 0.5120370936802563\n",
      "regression coefficients: const            13.063836\n",
      "bedrooms         -0.058571\n",
      "bathrooms         0.025374\n",
      "sqft_living       0.340612\n",
      "floors            0.051876\n",
      "waterfront        0.017566\n",
      "view              0.066148\n",
      "sqft_basement     0.022382\n",
      "dtype: float64\n"
     ]
    }
   ],
   "source": [
    "print('coefficient of determination:', results.rsquared)\n",
    "print('regression coefficients:', results.params)"
   ]
  },
  {
   "cell_type": "code",
   "execution_count": 86,
   "id": "857fc3b1",
   "metadata": {},
   "outputs": [
    {
     "data": {
      "text/plain": [
       "471576.20949054434"
      ]
     },
     "execution_count": 86,
     "metadata": {},
     "output_type": "execute_result"
    }
   ],
   "source": [
    "np.exp(13.063836)"
   ]
  },
  {
   "cell_type": "markdown",
   "id": "c576605f",
   "metadata": {},
   "source": [
    "Dari fitting data train dengan statsmodel regresi, diketahui bahwa :\n",
    "1. Model mampu menjelaskan data sebesar 51% (coefficient of determination/r-square)\n",
    "2. Harga rumah tanpa memperhatikan feature (bobot feature 0) adalah 471.576,21 dollar (np.exp(regression coefficients)\n",
    "3. Semua feature berpengaruh terhadap harga, hal ini didukung dengan nilai p>|t| lebih kecil dari 0.05\n",
    "4. Bobot bedrooms memiliki nilai negatif, hal ini berarti setiap satu kenaikan jumlah dari bedrooms akan menurunkan harga rumah (dengan asumsi semua feature kecuali bedrooms bernilai 0)\n",
    "5. Bobot selain bedrooms bernilai positif, hal ini berarti setiap satu kenaikan jumlah dari feature tersebut akan menaikan harga rumah (dengan asumsi hanya feature terkait yang memiliki nilai)"
   ]
  },
  {
   "cell_type": "markdown",
   "id": "cdd2e1d1",
   "metadata": {},
   "source": [
    "## 8.2 Fitting Data Test"
   ]
  },
  {
   "cell_type": "code",
   "execution_count": 87,
   "id": "9949ec6b",
   "metadata": {},
   "outputs": [],
   "source": [
    "#mencari intercepts/konstanta (y=mx+c)\n",
    "konstanta_1 = sm.add_constant(x_test_linear)"
   ]
  },
  {
   "cell_type": "code",
   "execution_count": 88,
   "id": "b1c474a8",
   "metadata": {},
   "outputs": [],
   "source": [
    "#Modelling dengan statsmodels\n",
    "simplemodel = sm.OLS(y_test,konstanta_1)\n",
    "results = simplemodel.fit()"
   ]
  },
  {
   "cell_type": "code",
   "execution_count": 89,
   "id": "a671eae1",
   "metadata": {},
   "outputs": [
    {
     "name": "stdout",
     "output_type": "stream",
     "text": [
      "                            OLS Regression Results                            \n",
      "==============================================================================\n",
      "Dep. Variable:                  price   R-squared:                       0.432\n",
      "Model:                            OLS   Adj. R-squared:                  0.429\n",
      "Method:                 Least Squares   F-statistic:                     147.2\n",
      "Date:                Wed, 24 Aug 2022   Prob (F-statistic):          1.63e-161\n",
      "Time:                        12:12:46   Log-Likelihood:                -726.76\n",
      "No. Observations:                1364   AIC:                             1470.\n",
      "Df Residuals:                    1356   BIC:                             1511.\n",
      "Df Model:                           7                                         \n",
      "Covariance Type:            nonrobust                                         \n",
      "=================================================================================\n",
      "                    coef    std err          t      P>|t|      [0.025      0.975]\n",
      "---------------------------------------------------------------------------------\n",
      "const            13.0608      0.011   1166.636      0.000      13.039      13.083\n",
      "bedrooms         -0.0461      0.015     -3.123      0.002      -0.075      -0.017\n",
      "bathrooms         0.0409      0.019      2.126      0.034       0.003       0.079\n",
      "sqft_living       0.2977      0.020     14.887      0.000       0.258       0.337\n",
      "floors            0.0369      0.015      2.527      0.012       0.008       0.066\n",
      "waterfront        0.0239      0.012      1.978      0.048       0.000       0.048\n",
      "view              0.0617      0.013      4.747      0.000       0.036       0.087\n",
      "sqft_basement     0.0343      0.014      2.395      0.017       0.006       0.062\n",
      "==============================================================================\n",
      "Omnibus:                      505.596   Durbin-Watson:                   2.003\n",
      "Prob(Omnibus):                  0.000   Jarque-Bera (JB):             9077.373\n",
      "Skew:                           1.248   Prob(JB):                         0.00\n",
      "Kurtosis:                      15.389   Cond. No.                         3.63\n",
      "==============================================================================\n",
      "\n",
      "Notes:\n",
      "[1] Standard Errors assume that the covariance matrix of the errors is correctly specified.\n"
     ]
    }
   ],
   "source": [
    "# Print results\n",
    "print(results.summary())"
   ]
  },
  {
   "cell_type": "markdown",
   "id": "1c885af6",
   "metadata": {},
   "source": [
    "Dari fitting data test dengan statsmodel, dapat diketahui bahwa :\n",
    "\n",
    "1. Data test masuk kategori good fit dengan data train, dimana perbedaannya tidak sampai 10%.\n",
    "2. Kemampuan model dalam menjelaskan data adalah 43% "
   ]
  },
  {
   "cell_type": "markdown",
   "id": "158acfc9",
   "metadata": {},
   "source": [
    "## 8.3 Prediksi Target"
   ]
  },
  {
   "cell_type": "code",
   "execution_count": 90,
   "id": "63f5982b",
   "metadata": {},
   "outputs": [
    {
     "data": {
      "text/html": [
       "<div>\n",
       "<style scoped>\n",
       "    .dataframe tbody tr th:only-of-type {\n",
       "        vertical-align: middle;\n",
       "    }\n",
       "\n",
       "    .dataframe tbody tr th {\n",
       "        vertical-align: top;\n",
       "    }\n",
       "\n",
       "    .dataframe thead th {\n",
       "        text-align: right;\n",
       "    }\n",
       "</style>\n",
       "<table border=\"1\" class=\"dataframe\">\n",
       "  <thead>\n",
       "    <tr style=\"text-align: right;\">\n",
       "      <th></th>\n",
       "      <th>bedrooms</th>\n",
       "      <th>bathrooms</th>\n",
       "      <th>sqft_living</th>\n",
       "      <th>floors</th>\n",
       "      <th>waterfront</th>\n",
       "      <th>view</th>\n",
       "      <th>sqft_basement</th>\n",
       "      <th>actual_price</th>\n",
       "      <th>prediction_price</th>\n",
       "    </tr>\n",
       "  </thead>\n",
       "  <tbody>\n",
       "    <tr>\n",
       "      <th>3683</th>\n",
       "      <td>-0.454092</td>\n",
       "      <td>0.426312</td>\n",
       "      <td>-0.726446</td>\n",
       "      <td>0.881635</td>\n",
       "      <td>-0.085939</td>\n",
       "      <td>-0.309884</td>\n",
       "      <td>-0.023982</td>\n",
       "      <td>13.206706</td>\n",
       "      <td>12.893421</td>\n",
       "    </tr>\n",
       "    <tr>\n",
       "      <th>2584</th>\n",
       "      <td>-0.454092</td>\n",
       "      <td>1.403606</td>\n",
       "      <td>0.958017</td>\n",
       "      <td>2.720398</td>\n",
       "      <td>-0.085939</td>\n",
       "      <td>3.615952</td>\n",
       "      <td>0.474433</td>\n",
       "      <td>14.353465</td>\n",
       "      <td>13.762020</td>\n",
       "    </tr>\n",
       "    <tr>\n",
       "      <th>69</th>\n",
       "      <td>-0.454092</td>\n",
       "      <td>0.426312</td>\n",
       "      <td>0.188195</td>\n",
       "      <td>-0.957127</td>\n",
       "      <td>-0.085939</td>\n",
       "      <td>-0.309884</td>\n",
       "      <td>0.768950</td>\n",
       "      <td>12.807655</td>\n",
       "      <td>13.125053</td>\n",
       "    </tr>\n",
       "    <tr>\n",
       "      <th>1844</th>\n",
       "      <td>-0.454092</td>\n",
       "      <td>0.426312</td>\n",
       "      <td>-0.383181</td>\n",
       "      <td>-0.957127</td>\n",
       "      <td>-0.085939</td>\n",
       "      <td>-0.309884</td>\n",
       "      <td>0.972847</td>\n",
       "      <td>12.524530</td>\n",
       "      <td>12.961968</td>\n",
       "    </tr>\n",
       "    <tr>\n",
       "      <th>33</th>\n",
       "      <td>0.661911</td>\n",
       "      <td>0.426312</td>\n",
       "      <td>0.840392</td>\n",
       "      <td>0.881635</td>\n",
       "      <td>-0.085939</td>\n",
       "      <td>-0.309884</td>\n",
       "      <td>-0.658329</td>\n",
       "      <td>13.345509</td>\n",
       "      <td>13.286608</td>\n",
       "    </tr>\n",
       "  </tbody>\n",
       "</table>\n",
       "</div>"
      ],
      "text/plain": [
       "      bedrooms  bathrooms  sqft_living    floors  waterfront      view  \\\n",
       "3683 -0.454092   0.426312    -0.726446  0.881635   -0.085939 -0.309884   \n",
       "2584 -0.454092   1.403606     0.958017  2.720398   -0.085939  3.615952   \n",
       "69   -0.454092   0.426312     0.188195 -0.957127   -0.085939 -0.309884   \n",
       "1844 -0.454092   0.426312    -0.383181 -0.957127   -0.085939 -0.309884   \n",
       "33    0.661911   0.426312     0.840392  0.881635   -0.085939 -0.309884   \n",
       "\n",
       "      sqft_basement  actual_price  prediction_price  \n",
       "3683      -0.023982     13.206706         12.893421  \n",
       "2584       0.474433     14.353465         13.762020  \n",
       "69         0.768950     12.807655         13.125053  \n",
       "1844       0.972847     12.524530         12.961968  \n",
       "33        -0.658329     13.345509         13.286608  "
      ]
     },
     "execution_count": 90,
     "metadata": {},
     "output_type": "execute_result"
    }
   ],
   "source": [
    "#membuat data frame baru yang berisi harga prediksi\n",
    "\n",
    "# membuat list kosong dengan kolom data x_train_linear\n",
    "list_columns = x_train_linear.columns\n",
    "\n",
    "#membuat prediksi model\n",
    "prediction_1 = results.predict(konstanta_1)\n",
    "\n",
    "# Tampilkan dalam bentuk dataframe\n",
    "df_statsmod = pd.DataFrame(x_test_linear)\n",
    "df_statsmod[\"actual_price\"] = y_test\n",
    "df_statsmod[\"prediction_price\"] = prediction_1\n",
    "df_statsmod.head()"
   ]
  },
  {
   "cell_type": "markdown",
   "id": "57274222",
   "metadata": {},
   "source": [
    "# 9. Evaluasi Kelayakan Model"
   ]
  },
  {
   "cell_type": "markdown",
   "id": "e8bdb5d9",
   "metadata": {},
   "source": [
    "Statsmodels layak digunakan apabila memenuhi 2 asumsi : <br/>\n",
    "    1. Distribusi residual antara aktual dan prediksi memiliki distribusi normal <br/>\n",
    "       Hal ini diduji dengan Uji Residual <br/>\n",
    "    2. Distribusi residual dengan prediksi memiliki distribusi acak <br/>\n",
    "       Hal ini diuji dengan Uji Homoskedasitas <br/>"
   ]
  },
  {
   "cell_type": "markdown",
   "id": "3723c054",
   "metadata": {},
   "source": [
    "## 9.1 Uji Residual"
   ]
  },
  {
   "cell_type": "code",
   "execution_count": 91,
   "id": "ee4b4697",
   "metadata": {},
   "outputs": [
    {
     "name": "stderr",
     "output_type": "stream",
     "text": [
      "C:\\Users\\hp\\AppData\\Local\\Programs\\Python\\Python310\\lib\\site-packages\\seaborn\\distributions.py:2619: FutureWarning: `distplot` is a deprecated function and will be removed in a future version. Please adapt your code to use either `displot` (a figure-level function with similar flexibility) or `histplot` (an axes-level function for histograms).\n",
      "  warnings.warn(msg, FutureWarning)\n"
     ]
    },
    {
     "data": {
      "image/png": "[encoded data removed]",
      "text/plain": [
       "<Figure size 432x288 with 1 Axes>"
      ]
     },
     "metadata": {
      "needs_background": "light"
     },
     "output_type": "display_data"
    }
   ],
   "source": [
    "#melihat distribusi residual\n",
    "residual1 = df_statsmod['actual_price'] - df_statsmod['prediction_price']\n",
    "sns.distplot(residual1)\n",
    "plt.title('Distribusi Residual Aktual dan Prediksi',fontsize=14)\n",
    "plt.show()"
   ]
  },
  {
   "cell_type": "code",
   "execution_count": 92,
   "id": "9813bfdb",
   "metadata": {},
   "outputs": [
    {
     "data": {
      "text/html": [
       "<div>\n",
       "<style scoped>\n",
       "    .dataframe tbody tr th:only-of-type {\n",
       "        vertical-align: middle;\n",
       "    }\n",
       "\n",
       "    .dataframe tbody tr th {\n",
       "        vertical-align: top;\n",
       "    }\n",
       "\n",
       "    .dataframe thead th {\n",
       "        text-align: right;\n",
       "    }\n",
       "</style>\n",
       "<table border=\"1\" class=\"dataframe\">\n",
       "  <thead>\n",
       "    <tr style=\"text-align: right;\">\n",
       "      <th></th>\n",
       "      <th>bedrooms</th>\n",
       "      <th>bathrooms</th>\n",
       "      <th>sqft_living</th>\n",
       "      <th>floors</th>\n",
       "      <th>waterfront</th>\n",
       "      <th>view</th>\n",
       "      <th>sqft_basement</th>\n",
       "      <th>actual_price</th>\n",
       "      <th>prediction_price</th>\n",
       "      <th>residual</th>\n",
       "    </tr>\n",
       "  </thead>\n",
       "  <tbody>\n",
       "    <tr>\n",
       "      <th>3683</th>\n",
       "      <td>-0.454092</td>\n",
       "      <td>0.426312</td>\n",
       "      <td>-0.726446</td>\n",
       "      <td>0.881635</td>\n",
       "      <td>-0.085939</td>\n",
       "      <td>-0.309884</td>\n",
       "      <td>-0.023982</td>\n",
       "      <td>13.206706</td>\n",
       "      <td>12.893421</td>\n",
       "      <td>0.313285</td>\n",
       "    </tr>\n",
       "    <tr>\n",
       "      <th>2584</th>\n",
       "      <td>-0.454092</td>\n",
       "      <td>1.403606</td>\n",
       "      <td>0.958017</td>\n",
       "      <td>2.720398</td>\n",
       "      <td>-0.085939</td>\n",
       "      <td>3.615952</td>\n",
       "      <td>0.474433</td>\n",
       "      <td>14.353465</td>\n",
       "      <td>13.762020</td>\n",
       "      <td>0.591446</td>\n",
       "    </tr>\n",
       "    <tr>\n",
       "      <th>69</th>\n",
       "      <td>-0.454092</td>\n",
       "      <td>0.426312</td>\n",
       "      <td>0.188195</td>\n",
       "      <td>-0.957127</td>\n",
       "      <td>-0.085939</td>\n",
       "      <td>-0.309884</td>\n",
       "      <td>0.768950</td>\n",
       "      <td>12.807655</td>\n",
       "      <td>13.125053</td>\n",
       "      <td>-0.317398</td>\n",
       "    </tr>\n",
       "    <tr>\n",
       "      <th>1844</th>\n",
       "      <td>-0.454092</td>\n",
       "      <td>0.426312</td>\n",
       "      <td>-0.383181</td>\n",
       "      <td>-0.957127</td>\n",
       "      <td>-0.085939</td>\n",
       "      <td>-0.309884</td>\n",
       "      <td>0.972847</td>\n",
       "      <td>12.524530</td>\n",
       "      <td>12.961968</td>\n",
       "      <td>-0.437438</td>\n",
       "    </tr>\n",
       "    <tr>\n",
       "      <th>33</th>\n",
       "      <td>0.661911</td>\n",
       "      <td>0.426312</td>\n",
       "      <td>0.840392</td>\n",
       "      <td>0.881635</td>\n",
       "      <td>-0.085939</td>\n",
       "      <td>-0.309884</td>\n",
       "      <td>-0.658329</td>\n",
       "      <td>13.345509</td>\n",
       "      <td>13.286608</td>\n",
       "      <td>0.058901</td>\n",
       "    </tr>\n",
       "  </tbody>\n",
       "</table>\n",
       "</div>"
      ],
      "text/plain": [
       "      bedrooms  bathrooms  sqft_living    floors  waterfront      view  \\\n",
       "3683 -0.454092   0.426312    -0.726446  0.881635   -0.085939 -0.309884   \n",
       "2584 -0.454092   1.403606     0.958017  2.720398   -0.085939  3.615952   \n",
       "69   -0.454092   0.426312     0.188195 -0.957127   -0.085939 -0.309884   \n",
       "1844 -0.454092   0.426312    -0.383181 -0.957127   -0.085939 -0.309884   \n",
       "33    0.661911   0.426312     0.840392  0.881635   -0.085939 -0.309884   \n",
       "\n",
       "      sqft_basement  actual_price  prediction_price  residual  \n",
       "3683      -0.023982     13.206706         12.893421  0.313285  \n",
       "2584       0.474433     14.353465         13.762020  0.591446  \n",
       "69         0.768950     12.807655         13.125053 -0.317398  \n",
       "1844       0.972847     12.524530         12.961968 -0.437438  \n",
       "33        -0.658329     13.345509         13.286608  0.058901  "
      ]
     },
     "execution_count": 92,
     "metadata": {},
     "output_type": "execute_result"
    }
   ],
   "source": [
    "# Memasukkan residual kedalam dataframe\n",
    "df_statsmod[\"residual\"] = residual1\n",
    "df_statsmod.head()"
   ]
  },
  {
   "cell_type": "markdown",
   "id": "15ac9fee",
   "metadata": {},
   "source": [
    "Dari grafik dapat disimpulkan bahwa residual antara aktual harga dan prediksi harga memiliki distribusi normal. 1 asumsi sudah terpenuhi"
   ]
  },
  {
   "cell_type": "markdown",
   "id": "f93acee0",
   "metadata": {},
   "source": [
    "## 9.2 Uji Homoskedastisitas"
   ]
  },
  {
   "cell_type": "code",
   "execution_count": 93,
   "id": "25bdb317",
   "metadata": {},
   "outputs": [
    {
     "name": "stderr",
     "output_type": "stream",
     "text": [
      "C:\\Users\\hp\\AppData\\Local\\Programs\\Python\\Python310\\lib\\site-packages\\seaborn\\_decorators.py:36: FutureWarning: Pass the following variables as keyword args: x, y. From version 0.12, the only valid positional argument will be `data`, and passing other arguments without an explicit keyword will result in an error or misinterpretation.\n",
      "  warnings.warn(\n"
     ]
    },
    {
     "data": {
      "text/plain": [
       "Text(0.5, 1.0, 'Residuals vs Prediction')"
      ]
     },
     "execution_count": 93,
     "metadata": {},
     "output_type": "execute_result"
    },
    {
     "data": {
      "image/png": "[encoded data removed]",
      "text/plain": [
       "<Figure size 432x288 with 1 Axes>"
      ]
     },
     "metadata": {
      "needs_background": "light"
     },
     "output_type": "display_data"
    }
   ],
   "source": [
    "asm_homosk = plt.scatter(df_statsmod['prediction_price'], df_statsmod[\"residual\"])\n",
    "plt.xlabel('Predicted Price')\n",
    "plt.ylabel('Residuals')\n",
    "\n",
    "#membuat line plot hubungan residual vs prediction\n",
    "asm_homosk=sns.lineplot([11,16],[0,0],color='red')\n",
    "plt.title('Residuals vs Prediction',fontsize=14)"
   ]
  },
  {
   "cell_type": "markdown",
   "id": "4e85471c",
   "metadata": {},
   "source": [
    "Dari grafik dapat disimpulkan bahwa residual antara prediksi harga berdistribusi acak. 2 asumsi sudah terpenuhi"
   ]
  },
  {
   "cell_type": "markdown",
   "id": "4f525865",
   "metadata": {},
   "source": [
    "## 9.3 Kesimpulan"
   ]
  },
  {
   "cell_type": "markdown",
   "id": "2e6d0756",
   "metadata": {},
   "source": [
    "1. Model mampu menjelaskan data test sebesar 43%\n",
    "2. Berdasarkan uji statistik, dimana nilai p>|t| kurang dari 0.05, maka dapat dikatakan bahwa feature yang sudah memiliki pengaruh yang signifikan terhadap harga rumah\n",
    "3. Model layak digunakan karna sudah memenuhi asumsi distribusi normal uji residual dan distribusi acak uji homoskedastisitas\n",
    "4. Perlu menambah feature baru untuk meningkatkan kemampuan model dalam menjelaskan data"
   ]
  },
  {
   "cell_type": "code",
   "execution_count": null,
   "id": "be9644f1",
   "metadata": {},
   "outputs": [],
   "source": []
  }
 ],
 "metadata": {
  "kernelspec": {
   "display_name": "Python 3 (ipykernel)",
   "language": "python",
   "name": "python3"
  },
  "language_info": {
   "codemirror_mode": {
    "name": "ipython",
    "version": 3
   },
   "file_extension": ".py",
   "mimetype": "text/x-python",
   "name": "python",
   "nbconvert_exporter": "python",
   "pygments_lexer": "ipython3",
   "version": "3.10.5"
  }
 },
 "nbformat": 4,
 "nbformat_minor": 5
}
